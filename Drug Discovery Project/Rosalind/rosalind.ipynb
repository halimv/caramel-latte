{
 "cells": [
  {
   "cell_type": "markdown",
   "metadata": {},
   "source": [
    "### Rosalind Problems"
   ]
  },
  {
   "cell_type": "markdown",
   "metadata": {},
   "source": [
    "Given: A string s of length at most 200 letters and four integers a, b, c and d\n",
    "\n",
    "Return: The slice of this string from indices a\n",
    "through b and c through d (with space in between), inclusively. In other words, we should include elements s[b] and s[d] in our slice."
   ]
  },
  {
   "cell_type": "code",
   "execution_count": null,
   "metadata": {},
   "outputs": [],
   "source": [
    "# opening files using with/as automatically handles opening/closing\n",
    "\n",
    "with open(\"rosalind_ini3.txt\",\"r\") as f:\n",
    "\n",
    "    # store lines \n",
    "    line1 = next(f);\n",
    "    line2 = next(f);\n",
    "\n",
    "    # store index values \n",
    "    ind = line2.split();\n",
    "    a = int(ind[0]);\n",
    "    b = int(ind[1]) + 1;\n",
    "    c = int(ind[2]);\n",
    "    d = int(ind[3]) +1;\n",
    "    \n",
    "    # return output \n",
    "    print(line1[a:b] + \" \" + line1[c:d])\n"
   ]
  },
  {
   "cell_type": "markdown",
   "metadata": {},
   "source": [
    "Given: Two positive integers a and b (a<b<10000).\n",
    "\n",
    "Return: The sum of all odd integers from a\n",
    "through b, inclusively."
   ]
  },
  {
   "cell_type": "code",
   "execution_count": null,
   "metadata": {},
   "outputs": [],
   "source": [
    "with open(\"rosalind_ini4.txt\",\"r\") as f:\n",
    "\n",
    "    # extract the integers\n",
    "    line1 = next(f);\n",
    "    a,b = map(int,line1.split());\n",
    "\n",
    "    # create a range of integers from a to b and sum odd integers\n",
    "    r = range(a,b+1)\n",
    "    sum = 0 \n",
    "\n",
    "    for i in r: \n",
    "        if i % 2 != 0:\n",
    "            sum = sum + i\n",
    "\n",
    "sum"
   ]
  },
  {
   "cell_type": "markdown",
   "metadata": {},
   "source": [
    "Given: A file containing at most 1000 lines.\n",
    "\n",
    "Return: A file containing all the even-numbered lines from the original file. Assume 1-based numbering of lines.\n",
    "\n",
    "Note that `enumerate` returns a tuple `(index,line)` for each `line` in file `f`. default numbering starts at 0  "
   ]
  },
  {
   "cell_type": "code",
   "execution_count": null,
   "metadata": {},
   "outputs": [],
   "source": [
    "with open(\"rosalind_ini5.txt\",\"r\") as f: \n",
    "    for index, line in enumerate(f,start =1):\n",
    "        if index % 2 == 0:\n",
    "            print(line.strip())\n",
    "\n",
    "\n",
    "# alternately \n",
    "with open('rosalind_ini5.txt','r') as f: \n",
    "    print(''.join(f.readlines()[1::2]))\n",
    "\n"
   ]
  },
  {
   "cell_type": "markdown",
   "metadata": {},
   "source": [
    "Given: A string *s* of length at most 10000 letters.\n",
    "\n",
    "Return: The number of occurrences of each word in s, where words are separated by spaces. Words are case-sensitive, and the lines in the output can be in any order."
   ]
  },
  {
   "cell_type": "code",
   "execution_count": null,
   "metadata": {},
   "outputs": [],
   "source": [
    "wordcount = {};\n",
    "\n",
    "with open(\"rosalind_ini6.txt\",\"r\") as f: \n",
    "    for line in f:\n",
    "        words = line.split()\n",
    "\n",
    "        for word in words:\n",
    "            if word in wordcount:\n",
    "                wordcount[word] = int(wordcount[word]) + 1;\n",
    "            else: \n",
    "                wordcount[word] = 1; \n",
    "\n",
    "for entry in wordcount: \n",
    "    print(entry + \" \" + str(wordcount[entry]))"
   ]
  },
  {
   "cell_type": "code",
   "execution_count": null,
   "metadata": {},
   "outputs": [],
   "source": [
    "with open(\"rosalind_ini6.txt\",\"r\") as f: \n",
    "    words = f.readline().split()\n",
    "\n",
    "for word in set(words):\n",
    "    print(word,words.count(word))"
   ]
  },
  {
   "cell_type": "markdown",
   "metadata": {},
   "source": [
    "### A Rapid Introduction to Molecular Biology \n",
    "\n",
    "Cell nuclei are filled with chromatin which contains nucleic acids. NA are a polymer, and the monomer unit is a **nucleotide**. \n",
    "\n",
    "**Nucleotides** are made up of a sugar, negatively charged phosphate ion, and *nucleobase* or *base* for short. Nucleotides of a specific nucleic acid will always have the same sugar and phosphate ion, differing only in the base. \n",
    "\n",
    "Polymerization is achieved by the bonding of the sugar and phosphate ion forming the sugar-phosphate backbone of nucleic acid strands. Nucleic acid strands are differentiated based on the order of the bae. \n",
    "\n",
    "For DNA (Deoxyribose Nuclei Acid), Deoxyribose is the sugar, and the four choices of bases are A,C,G,T (Adenine, Cytosine, Guanine, Thymine)\n",
    "\n",
    "\n",
    "### Problem \n",
    "Given: A DNA string s of length at most 1000 nt.\n",
    "\n",
    "Return: Four integers (separated by spaces) counting the respective number of times that the symbols 'A', 'C', 'G', and 'T' occur in s."
   ]
  },
  {
   "cell_type": "code",
   "execution_count": null,
   "metadata": {},
   "outputs": [],
   "source": [
    "# can't use set since it's unordered\n",
    "# using a dictionary to count occurences \n",
    "\n",
    "bases = {};\n",
    "\n",
    "with open(\"rosalind_dna.txt\",\"r\") as f:\n",
    "    string = f.readline().strip();\n",
    "\n",
    "for base in set(string):\n",
    "    bases[base] = string.count(base)\n",
    "        \n",
    "print(bases[\"A\"], bases[\"C\"], bases[\"G\"], bases[\"T\"])\n",
    "\n",
    "# storing variables in a dictionary allows for extension and maintenance"
   ]
  },
  {
   "cell_type": "code",
   "execution_count": null,
   "metadata": {},
   "outputs": [],
   "source": [
    "\n",
    "## alternatively, using a generator expression & unpacking\n",
    "\n",
    "with open(\"rosalind_dna.txt\",\"r\") as fh: \n",
    "    fh = fh.read()\n",
    "    print(*(fh.count(nuc) for nuc in \"ACGT\"))\n",
    "\n",
    "\n",
    "# although more compact, this version can be less readable \n",
    "# less efficient for larger strings because we are looping through the \n"
   ]
  },
  {
   "cell_type": "markdown",
   "metadata": {},
   "source": [
    "### The Second Nucleic Acid \n",
    "\n",
    "RNA (Ribose Nucleic Acid) with a different sugar ribose is also present in chromatin. It has the base *uracil* instead of *thymine*. \n",
    "\n",
    "DNA serves as a template for mRNA, created during RNA transcription of DNA, which can enter the far reaches of the cell. In contrast, DNA stays in the nucleus. \n",
    "\n",
    "### Problem \n",
    "An RNA string is a string formed from the alphabet containing 'A', 'C', 'G', and 'U'.\n",
    "\n",
    "Given a DNA string t corresponding to a coding strand, its transcribed RNA string u is formed by replacing all occurrences of 'T' in t with 'U' in u.\n",
    "\n",
    "Given: A DNA string t having length at most 1000 nt.\n",
    "Return: The transcribed RNA string of t."
   ]
  },
  {
   "cell_type": "code",
   "execution_count": null,
   "metadata": {},
   "outputs": [],
   "source": [
    "with open(\"rosalind_rna.txt\",\"r\") as t: \n",
    "    t = t.read().strip()\n",
    "    u = \"\"\n",
    "\n",
    "    for bp in t: \n",
    "        if bp == \"T\":\n",
    "            u = u + \"U\"\n",
    "        else: \n",
    "            u = u + bp \n",
    "\n",
    "print(u)\n",
    "\n",
    "# this approach works but is inefficient \n",
    "# strings are immutable - a new string is created in each iteration \n",
    "# results in O(n^2) complexity as string length grows  "
   ]
  },
  {
   "cell_type": "code",
   "execution_count": null,
   "metadata": {},
   "outputs": [],
   "source": [
    "with open('rosalind_rna.txt','r') as t: \n",
    "    t = t.read().strip()\n",
    "\n",
    "u_l = []\n",
    "\n",
    "for bp in t: \n",
    "    if bp == \"T\":\n",
    "        u_l.append('U')\n",
    "    else: \n",
    "        u_l.append(bp)\n",
    "\n",
    "\n",
    "u = ''.join(u_l)\n",
    "u\n",
    "\n",
    "# this is a more efficient way, with O(n) complexity (linear)"
   ]
  },
  {
   "cell_type": "code",
   "execution_count": null,
   "metadata": {},
   "outputs": [],
   "source": [
    "## another alternative \n",
    "# efficient and most Pythonic, using replace() as designed\n",
    "\n",
    "with open('rosalind_rna.txt','r') as t: \n",
    "    t = t.read().strip()\n",
    "    u = t.replace(\"T\",\"U\")\n",
    "\n",
    "print(u)"
   ]
  },
  {
   "cell_type": "markdown",
   "metadata": {},
   "source": [
    "### The Secondary and Tertiary Structures of DNA \n",
    "\n",
    "The DNA molecule is a double helix made up of two strands running in opposite directions. Each base bonds to a base in the opposite strand complementarily (A-T) and (G-C) - called a **base pair**\n",
    "\n",
    "The tertiary structure refers to the 3D shape of the molecule, while the secondary is compriesd of the two opposite strands and base pairs. \n",
    "\n",
    "### Problem \n",
    "In DNA strings, symbols 'A' and 'T' are complements of each other, as are 'C' and 'G'.\n",
    "\n",
    "The reverse complement of a DNA string s is the string s<sup>c</sup> formed by reversing the symbols of s, then taking the complement of each symbol (e.g., the reverse complement of \"GTCA\" is \"TGAC\").\n",
    "\n",
    "Given: A DNA string s of length at most 1000 bp.\n",
    "Return: The reverse complement s<sup>c</sup> of s.\n",
    "\n"
   ]
  },
  {
   "cell_type": "code",
   "execution_count": null,
   "metadata": {},
   "outputs": [],
   "source": [
    "# Note the *reverse* complement is due to the two strands running in \n",
    "# *opposite* directions \n",
    "\n",
    "# must reverse first and then replace! \n",
    "with open('rosalind_revc.txt','r') as s:\n",
    "    s = s.read().strip()\n",
    "\n",
    "sc_list = list(s) \n",
    "sc_list.reverse()\n",
    "\n",
    "\n",
    "# list comprehension\n",
    "sc_list = [\n",
    "    'A' if nt == 'T' else \n",
    "    'T' if nt == 'A' else\n",
    "    'G' if nt == 'C' else\n",
    "    'C' if nt == 'G' else nt\n",
    "\n",
    "    for nt in sc_list\n",
    "]\n",
    "\n",
    "sc = ''.join(sc_list)\n",
    "sc\n",
    "\n"
   ]
  },
  {
   "cell_type": "code",
   "execution_count": null,
   "metadata": {},
   "outputs": [],
   "source": [
    "## more efficient method using translation table\n",
    "\n",
    "with open('rosalind_revc.txt', 'r') as s:\n",
    "    s = s.read().strip()\n",
    "\n",
    "sc = s[::-1].translate(str.maketrans(\"ATGC\", \"TACG\"))\n",
    "sc\n"
   ]
  },
  {
   "cell_type": "code",
   "execution_count": 16,
   "metadata": {},
   "outputs": [],
   "source": [
    "## Dynamic Programming \n",
    "\n",
    "# 1) identify the mathematical structure \n",
    "# F(n) = F(n-1) + F(n-2) for n > 2\n",
    "\n",
    "# 2) solve recursively: \n",
    "# a) initialize base cases: at month 1 and 2, 1 pair of rabbits \n",
    "#    F(0) = 1; F(1) = 1;\n",
    "# b) call the function to solve a smaller version of the problem\n",
    "\n",
    "# 3) memoization: store previously computed values in an array \n",
    "\n",
    "# define base cases and dictionary\n",
    "\n",
    "def fib(n, memo): \n",
    "\n",
    "    # create array if function is called for the first time\n",
    "    if not memo:\n",
    "        memo = {0:1, 1:1}\n",
    "\n",
    "    # search for previously computed solutions\n",
    "    if n in memo:\n",
    "        return memo[n]\n",
    "\n",
    "    else: \n",
    "        memo[n] = fib(n-1, memo) + fib(n-2, memo)\n",
    "        return memo[n]\n",
    "    \n",
    "\n",
    "# initialize base cases & call function \n",
    "memo = {0:1, 1:1} \n"
   ]
  },
  {
   "cell_type": "code",
   "execution_count": 33,
   "metadata": {},
   "outputs": [
    {
     "data": {
      "text/plain": [
       "70330367711422815821835254877183549770181269836358732742604905087154537118196933579742249494562611733487750449241765991088186363265450223647106012053374121273867339111198139373125598767690091902245245323403501"
      ]
     },
     "execution_count": 33,
     "metadata": {},
     "output_type": "execute_result"
    }
   ],
   "source": [
    "fib(1000,memo)"
   ]
  },
  {
   "cell_type": "code",
   "execution_count": 14,
   "metadata": {},
   "outputs": [
    {
     "data": {
      "text/plain": [
       "19"
      ]
     },
     "execution_count": 14,
     "metadata": {},
     "output_type": "execute_result"
    }
   ],
   "source": [
    "# same scenario as above, except each mature rabbit pair births 3 rabbit pairs \n",
    "\n",
    "def fib2(n, k, memo=None): \n",
    "\n",
    "    if memo is None: \n",
    "        memo = {}\n",
    "    \n",
    "    # search for previously computed solutions\n",
    "    if n in memo:\n",
    "        return memo[n]\n",
    "\n",
    "    else: \n",
    "        memo[n] = fib2(n-1,k,memo) + (k * fib2(n-2,k,memo))\n",
    "        return memo[n]\n",
    "    \n",
    "\n",
    "# initialize base cases & call function \n",
    "memo = {0:1, 1:1} \n",
    "\n",
    "fib2(4,3,memo)"
   ]
  },
  {
   "cell_type": "code",
   "execution_count": 17,
   "metadata": {},
   "outputs": [
    {
     "data": {
      "text/plain": [
       "1323839213083"
      ]
     },
     "execution_count": 17,
     "metadata": {},
     "output_type": "execute_result"
    }
   ],
   "source": [
    "\n",
    "# open file \n",
    "with open(\"rosalind_fib.txt\") as f:\n",
    "    l = f.read().split()\n",
    "\n",
    "    n = int(l[0]) - 1 # zero-based indexing \n",
    "    k = int(l[1])\n",
    "\n",
    "fib2(n,k,memo)"
   ]
  },
  {
   "cell_type": "markdown",
   "metadata": {},
   "source": [
    "### Computing GC Content \n",
    "\n",
    "#### Identifying Unknown DNA Quickly\n",
    "Languages can be identified using software by analyzing the frequency of each letter. Each language has its own letter frequency, and the same can be said for genomes (e.g. human vs. animal)\n",
    "\n",
    "Although two members of the same species have different genomes, they share 99.9% of the 3.2 billionbase pairs in a human genome (excluding those with major genetic defects). An average case genome such as this can be assembled for any species. \n",
    "\n",
    "In a double stranded molecule cytosine and guanine will always appear in equal amounts (G&C). GC content (% of bases that are either cytosine or guanine) can be used to differentiate many prokaryotes and eukaryotes by using small DNA samples. \n",
    "\n",
    "\n",
    "#### Problem \n",
    "The GC-content of a DNA string is given by the percentage of symbols in the string that are 'C' or 'G'. For example, the GC-content of \"AGCTATAG\" is 37.5%. Note that the reverse complement of any DNA string has the same GC-content.\n",
    "\n",
    "DNA strings must be labeled when they are consolidated into a database. A commonly used method of string labeling is called FASTA format. In this format, the string is introduced by a line that begins with '>', followed by some labeling information. Subsequent lines contain the string itself; the first line to begin with '>' indicates the label of the next string.\n",
    "\n",
    "In Rosalind's implementation, a string in FASTA format will be labeled by the ID \"Rosalind_xxxx\", where \"xxxx\" denotes a four-digit code between 0000 and 9999.\n",
    "\n",
    "Given: At most 10 DNA strings in FASTA format (of length at most 1 kbp each).\n",
    "\n",
    "Return: The ID of the string having the highest GC-content, followed by the GC-content of that string. Rosalind allows for a default error of 0.001 in all decimal answers unless otherwise stated; please see the note on absolute error below. \n",
    "\n",
    "Sample  Dataset: \n",
    ">\\>Rosalind_6404\n",
    "CCTGCGGAAGATCGGCACTAGAATAGCCAGAACCGTTTCTCTGAGGCTTCCGGCCTTCCC\n",
    "TCCCACTAATAATTCTGAGG\n",
    "\n",
    ">\\>Rosalind_5959\n",
    "CCATCGGTAGCGCATCCTTAGTCCAATTAAGTCCCTATCCAGGCGCTCCGCCGAAGGTCT\n",
    "ATATCCATTTGTCAGCAGACACGC \n",
    "\n",
    ">\\>Rosalind_0808\n",
    "CCACCCTCGTGGTATGGCTAGGCATTCAGGAACCGGAGAACGCTTCAGACCAGCCCGGAC\n",
    "TGGGAACCTGCGGGCAGTAGGTGGAAT\n",
    "\n",
    "Sample Output: \n",
    ">Rosalind_0808\n",
    "\n",
    ">60.919540\n"
   ]
  },
  {
   "cell_type": "code",
   "execution_count": 59,
   "metadata": {},
   "outputs": [
    {
     "name": "stdout",
     "output_type": "stream",
     "text": [
      "Rosalind_0808\n",
      "60.91954\n"
     ]
    }
   ],
   "source": [
    "# initialize lists \n",
    "\n",
    "ros_id = []\n",
    "gc_content= []\n",
    "\n",
    "# open file & split FASTA strings\n",
    "with open(\"rosalind_gc.txt\") as f:\n",
    "    fasta = f.read().replace(\"\\n\",\"\").lstrip(\">\").split(\">\")\n",
    "\n",
    "for val in fasta:\n",
    "    if val:\n",
    "        # save Rosalind ID\n",
    "        ros_id.append(val[:13])\n",
    "\n",
    "        # cleanup 'Rosalind_xxxx' from strings\n",
    "        string = val[13:]\n",
    "        \n",
    "        # calculate gc content \n",
    "        num_gc = string.count(\"G\") + string.count(\"C\")\n",
    "        num_bases = len(string)\n",
    "\n",
    "        gc = num_gc/num_bases * 100 \n",
    "        gc_content.append(gc)\n",
    "\n",
    "# find index of FASTA string with highest GC content\n",
    "max_id = gc_content.index(max(gc_content))\n",
    "\n",
    "# print results \n",
    "print(ros_id[max_id])\n",
    "print(round(gc_content[max_id],6))\n",
    "    "
   ]
  },
  {
   "cell_type": "code",
   "execution_count": 85,
   "metadata": {},
   "outputs": [
    {
     "name": "stdout",
     "output_type": "stream",
     "text": [
      "Rosalind_0808\n",
      "60.919540\n"
     ]
    }
   ],
   "source": [
    "# using pandas \n",
    "import pandas as pd \n",
    "\n",
    "with open(\"rosalind_gc.txt\") as f:\n",
    "    fasta_list = f.read().replace(\"\\n\",\"\").lstrip(\">\").split(\">\")\n",
    "\n",
    "# initialize df\n",
    "df_fasta = pd.DataFrame()\n",
    "\n",
    "# populate df\n",
    "df_fasta = pd.DataFrame(fasta_list,columns = ['raw'])\n",
    "df_fasta['ros_id'] = df_fasta['raw'].str[:13]\n",
    "df_fasta['string'] = df_fasta['raw'].str[13:]\n",
    "\n",
    "# calculate gc content\n",
    "count_gc = df_fasta['string'].str.count(\"G\") + df_fasta['string'].str.count(\"C\")\n",
    "count_bases = df_fasta['string'].apply(len)\n",
    "df_fasta['gc_content'] = (count_gc / count_bases) * 100  \n",
    "\n",
    "# find index of max gc_content \n",
    "maxgc_id = df_fasta['gc_content'].idxmax()\n",
    "\n",
    "# print max gc content and Rosalind ID \n",
    "print(df_fasta['ros_id'][maxgc_id])\n",
    "print(f\"{df_fasta['gc_content'][maxgc_id]:.6f}\")"
   ]
  },
  {
   "cell_type": "code",
   "execution_count": 77,
   "metadata": {},
   "outputs": [
    {
     "data": {
      "text/plain": [
       "['Rosalind_6404CCTGCGGAAGATCGGCACTAGAATAGCCAGAACCGTTTCTCTGAGGCTTCCGGCCTTCCCTCCCACTAATAATTCTGAGG',\n",
       " 'Rosalind_5959CCATCGGTAGCGCATCCTTAGTCCAATTAAGTCCCTATCCAGGCGCTCCGCCGAAGGTCTATATCCATTTGTCAGCAGACACGC',\n",
       " 'Rosalind_0808CCACCCTCGTGGTATGGCTAGGCATTCAGGAACCGGAGAACGCTTCAGACCAGCCCGGACTGGGAACCTGCGGGCAGTAGGTGGAAT']"
      ]
     },
     "execution_count": 77,
     "metadata": {},
     "output_type": "execute_result"
    }
   ],
   "source": [
    "fasta_list"
   ]
  }
 ],
 "metadata": {
  "kernelspec": {
   "display_name": "base",
   "language": "python",
   "name": "python3"
  },
  "language_info": {
   "codemirror_mode": {
    "name": "ipython",
    "version": 3
   },
   "file_extension": ".py",
   "mimetype": "text/x-python",
   "name": "python",
   "nbconvert_exporter": "python",
   "pygments_lexer": "ipython3",
   "version": "3.8.5"
  }
 },
 "nbformat": 4,
 "nbformat_minor": 2
}
