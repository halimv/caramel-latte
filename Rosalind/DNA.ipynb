{
 "cells": [
  {
   "cell_type": "markdown",
   "metadata": {},
   "source": [
    "### A Rapid Introduction to Molecular Biology \n",
    "\n",
    "Cell nuclei are filled with chromatin which contains nucleic acids. NA are a polymer, and the monomer unit is a **nucleotide**. \n",
    "\n",
    "**Nucleotides** are made up of a sugar, negatively charged phosphate ion, and *nucleobase* or *base* for short. Nucleotides of a specific nucleic acid will always have the same sugar and phosphate ion, differing only in the base. \n",
    "\n",
    "Polymerization is achieved by the bonding of the sugar and phosphate ion forming the sugar-phosphate backbone of nucleic acid strands. Nucleic acid strands are differentiated based on the order of the bae. \n",
    "\n",
    "For DNA (Deoxyribose Nuclei Acid), Deoxyribose is the sugar, and the four choices of bases are A,C,G,T (Adenine, Cytosine, Guanine, Thymine)\n",
    "\n",
    "\n",
    "### Problem \n",
    "Given: A DNA string s of length at most 1000 nt.\n",
    "\n",
    "Return: Four integers (separated by spaces) counting the respective number of times that the symbols 'A', 'C', 'G', and 'T' occur in s."
   ]
  },
  {
   "cell_type": "code",
   "execution_count": 1,
   "metadata": {},
   "outputs": [
    {
     "name": "stdout",
     "output_type": "stream",
     "text": [
      "215 206 216 215\n"
     ]
    }
   ],
   "source": [
    "# can't use set since it's unordered\n",
    "# using a dictionary to count occurences \n",
    "\n",
    "bases = {};\n",
    "\n",
    "with open(\"datasets/rosalind_dna.txt\",\"r\") as f:\n",
    "    string = f.readline().strip();\n",
    "\n",
    "for base in set(string):\n",
    "    bases[base] = string.count(base)\n",
    "        \n",
    "print(bases[\"A\"], bases[\"C\"], bases[\"G\"], bases[\"T\"])\n",
    "\n",
    "# storing variables in a dictionary allows for extension and maintenance"
   ]
  },
  {
   "cell_type": "code",
   "execution_count": 2,
   "metadata": {},
   "outputs": [
    {
     "name": "stdout",
     "output_type": "stream",
     "text": [
      "215 206 216 215\n"
     ]
    }
   ],
   "source": [
    "\n",
    "## alternatively, using a generator expression & unpacking\n",
    "\n",
    "with open(\"datasets/rosalind_dna.txt\",\"r\") as fh: \n",
    "    fh = fh.read()\n",
    "    print(*(fh.count(nuc) for nuc in \"ACGT\"))\n",
    "\n",
    "\n",
    "# although more compact, this version can be less readable \n",
    "# less efficient for larger strings because we are looping through the \n"
   ]
  }
 ],
 "metadata": {
  "kernelspec": {
   "display_name": "base",
   "language": "python",
   "name": "python3"
  },
  "language_info": {
   "codemirror_mode": {
    "name": "ipython",
    "version": 3
   },
   "file_extension": ".py",
   "mimetype": "text/x-python",
   "name": "python",
   "nbconvert_exporter": "python",
   "pygments_lexer": "ipython3",
   "version": "3.8.5"
  }
 },
 "nbformat": 4,
 "nbformat_minor": 2
}
