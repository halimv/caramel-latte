{
 "cells": [
  {
   "cell_type": "markdown",
   "metadata": {},
   "source": [
    "#### Mendel's First Law \n",
    "\n",
    "For any factor, an organism randomly passes one of two alleles to each offspring, so that an individual receives one allele from each parent. \n",
    "\n",
    "Alleles are either dominant or recessive. A phenotype is displayed for homozygous and heterozygous dominant alelles, or homozygous recessive alleles only. \n",
    "\n",
    "#### Probability \n",
    "An event (collection of outcomes) can be written as the sum of probabilities of its constitutient outcomes. For dependent outcomes, the probability is the product of probabilities along the path from the beginning of a tree. '\n",
    "\n",
    "\n",
    "Given: Three positive integers k, m, and n, representing a population containing k+m+n organisms: k individuals are homozygous dominant for a factor, m are heterozygous, and n are homozygous recessive.\n",
    "\n",
    "Return: The probability that two randomly selected mating organisms will produce an individual possessing a dominant allele (and thus displaying the dominant phenotype). Assume that any two organisms can mate.\n",
    "\n",
    "Sample Dataset\n",
    "> 2 2 2 \n",
    "\n",
    "Sample Output \n",
    "> 0.7833"
   ]
  },
  {
   "cell_type": "code",
   "execution_count": 1,
   "metadata": {},
   "outputs": [
    {
     "name": "stdout",
     "output_type": "stream",
     "text": [
      "0.7768361581920904\n"
     ]
    }
   ],
   "source": [
    "# this approach involves solving for the binomial coefficients of: \n",
    "# 1) all possible ways to choose a pair from the total population (n+m+k)_C_2 \n",
    "# 2) individual favorable pairings \n",
    "\n",
    "ints = [19,25,16]\n",
    "\n",
    "k = ints[0]\n",
    "m = ints[1]\n",
    "n = ints[2]\n",
    "\n",
    "total_population = k + m + n\n",
    "\n",
    "P_kk = (k*(k-1))/2 \n",
    "P_km = k * m \n",
    "P_kn = k * n\n",
    "P_mm = (m*(m-1))/2 * 0.75 \n",
    "P_mn = (m * n) * 0.5\n",
    "#P_nn = 0\n",
    "\n",
    "possible = (total_population*(total_population-1))/2\n",
    "favorable = P_kk + P_km + P_kn + P_mm + P_mn\n",
    "\n",
    "P_dominant = favorable/possible\n",
    "\n",
    "print(P_dominant)\n"
   ]
  },
  {
   "cell_type": "markdown",
   "metadata": {},
   "source": [
    "### Thoughts\n",
    "\n",
    "Solving for the probability of the child displaying the phenotype by calculating the binomial coefficient is pretty straightforward. But I felt that I was just using Python as a calculator, and that this approach wouldn't work with larger datasets or more ambiguous problems where we don't have a mathematical formula to calculate the probability. \n",
    "\n",
    "I decided to approach this problem from a different angle, using a Monte Carlo simulation. For the dataset $[k,m,n] = [19,25,16]$ Rosalind accepted the simulated answer at 1m trials 0.777247. Calculated using the binomial coefficient, the solution was 0.776836, an inaccuracy of 0.053%"
   ]
  },
  {
   "cell_type": "code",
   "execution_count": 1,
   "metadata": {},
   "outputs": [
    {
     "name": "stdout",
     "output_type": "stream",
     "text": [
      "k,m,n : ['19', '25', '16']\n",
      "Probability of at least one dominant allele\n",
      "Calculated from binomial coefficient: 0.78333\n",
      "For 1,000 trials: 0.767\n",
      "For 10,000 trials: 0.7753\n",
      "For 100,000 trials 0.77662\n",
      "For 1,000,000 trials 0.776729\n"
     ]
    }
   ],
   "source": [
    "import numpy as np\n",
    "import random\n",
    "\n",
    "# Monte Carlo Simulation approach \n",
    "\n",
    "# determine child genotype given 2 parent genotypes\n",
    "def child(parent1,parent2):\n",
    "    if parent1 == 'AA' and parent2 == 'AA':\n",
    "        return 'AA'\n",
    "    elif (parent1 == 'AA' and parent2 == 'Aa') or (parent1 == 'Aa' and parent2 == 'AA'): \n",
    "        return np.random.choice(['AA','Aa']) \n",
    "    elif (parent1 == 'AA' and parent2 == 'aa') or (parent1 == 'aa' and parent2 == 'AA'):\n",
    "        return 'Aa'\n",
    "    elif parent1 == 'Aa' and parent2 == 'Aa':\n",
    "        return np.random.choice(['AA','Aa','aa'], p = [0.25,0.5,0.25])\n",
    "    elif (parent1 == 'Aa' and parent2 == 'aa') or (parent1 == 'aa' and parent2 == 'Aa'):\n",
    "        return np.random.choice(['Aa','aa']) \n",
    "    elif parent1 == 'aa' and parent2 == 'aa':\n",
    "        return 'aa'\n",
    "    else:\n",
    "        print(\"error\") \n",
    "        return\n",
    "\n",
    "# simulate selection of 2 individuals from the total population and return probability of the child displaying the phenotype\n",
    "def simulate_1A(k,m,n,trials):\n",
    "\n",
    "    # initialize dictionary of child genotypes\n",
    "    genotype_counts = {'AA':0,'Aa':0,'aa':0}\n",
    "\n",
    "    # define probabilities of selecting k,m, or n \n",
    "    population = ['AA'] * k + ['Aa'] * m + ['aa'] * n\n",
    "\n",
    "        \n",
    "    for i in range(trials):\n",
    "        parents = np.random.choice(population,2,False)\n",
    "        child_genotype = child(parents[0],parents[1])\n",
    "       \n",
    "        genotype_counts[child_genotype] += 1\n",
    "\n",
    "\n",
    "    atleast1A = genotype_counts['AA'] + genotype_counts['Aa']\n",
    "\n",
    "    return atleast1A/trials\n",
    "\n",
    "            \n",
    "#body \n",
    "with open(\"datasets/rosalind_iprb.txt\") as fh: \n",
    "    ints = fh.read().split()\n",
    "\n",
    "print('k,m,n :',ints)\n",
    "k,m,n = int(ints[0]), int(ints[1]), int(ints[2])\n",
    "\n",
    "probability_1k = simulate_1A(k,m,n,1000)\n",
    "probability_10k = simulate_1A(k,m,n,10000)\n",
    "probability_100k = simulate_1A(k,m,n,100000)\n",
    "probability_1m = simulate_1A(k,m,n,1000000)\n",
    "\n",
    "print('Probability of at least one dominant allele')\n",
    "print('Calculated from binomial coefficient: 0.78333')\n",
    "print('For 1,000 trials:',probability_1k)\n",
    "print('For 10,000 trials:',probability_10k)\n",
    "print('For 100,000 trials',probability_100k)\n",
    "print('For 1,000,000 trials',probability_1m)\n",
    "\n",
    "# note: for the dataset [k,m,n] = ['19','25','16'], rosalind accepted the simulated answer at 1m trials 0.777247\n",
    "# calculated using the binomial coefficient, the solution was 0.776836, an inaccuracy of 0.053% "
   ]
  },
  {
   "cell_type": "markdown",
   "metadata": {},
   "source": [
    "### Troubleshooting \n",
    "\n",
    "This section is for debugging purposes, to check if code is behaving as expected "
   ]
  },
  {
   "cell_type": "code",
   "execution_count": 3,
   "metadata": {},
   "outputs": [
    {
     "name": "stdout",
     "output_type": "stream",
     "text": [
      "A: 0.5011\n",
      "B: 0.3014\n",
      "C: 0.1975\n"
     ]
    }
   ],
   "source": [
    "#testing np.random.choice() when not given p array \n",
    "\n",
    "countings = {'A':0,'B':0,'C':0}\n",
    "\n",
    "array = ['A']*5 + ['B']*3 + ['C']*2\n",
    "trials = 10000\n",
    "\n",
    "for i in range (trials): \n",
    "    selection = np.random.choice(array,1,False)\n",
    "    countings[selection[0]] += 1 \n",
    "\n",
    "print('A:',countings['A']/trials)\n",
    "print('B:',countings['B']/trials)\n",
    "print('C:',countings['C']/trials)"
   ]
  }
 ],
 "metadata": {
  "kernelspec": {
   "display_name": "base",
   "language": "python",
   "name": "python3"
  },
  "language_info": {
   "codemirror_mode": {
    "name": "ipython",
    "version": 3
   },
   "file_extension": ".py",
   "mimetype": "text/x-python",
   "name": "python",
   "nbconvert_exporter": "python",
   "pygments_lexer": "ipython3",
   "version": "3.8.5"
  }
 },
 "nbformat": 4,
 "nbformat_minor": 2
}
