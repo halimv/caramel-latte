{
 "cells": [
  {
   "cell_type": "markdown",
   "metadata": {},
   "source": [
    "### Computing GC Content \n",
    "\n",
    "#### Identifying Unknown DNA Quickly\n",
    "Languages can be identified using software by analyzing the frequency of each letter. Each language has its own letter frequency, and the same can be said for genomes (e.g. human vs. animal)\n",
    "\n",
    "Although two members of the same species have different genomes, they share 99.9% of the 3.2 billionbase pairs in a human genome (excluding those with major genetic defects). An average case genome such as this can be assembled for any species. \n",
    "\n",
    "In a double stranded molecule cytosine and guanine will always appear in equal amounts (G&C). GC content (% of bases that are either cytosine or guanine) can be used to differentiate many prokaryotes and eukaryotes by using small DNA samples. \n",
    "\n",
    "\n",
    "#### Problem \n",
    "The GC-content of a DNA string is given by the percentage of symbols in the string that are 'C' or 'G'. For example, the GC-content of \"AGCTATAG\" is 37.5%. Note that the reverse complement of any DNA string has the same GC-content.\n",
    "\n",
    "DNA strings must be labeled when they are consolidated into a database. A commonly used method of string labeling is called FASTA format. In this format, the string is introduced by a line that begins with '>', followed by some labeling information. Subsequent lines contain the string itself; the first line to begin with '>' indicates the label of the next string.\n",
    "\n",
    "In Rosalind's implementation, a string in FASTA format will be labeled by the ID \"Rosalind_xxxx\", where \"xxxx\" denotes a four-digit code between 0000 and 9999.\n",
    "\n",
    "Given: At most 10 DNA strings in FASTA format (of length at most 1 kbp each).\n",
    "\n",
    "Return: The ID of the string having the highest GC-content, followed by the GC-content of that string. Rosalind allows for a default error of 0.001 in all decimal answers unless otherwise stated; please see the note on absolute error below. \n",
    "\n",
    "Sample  Dataset: \n",
    ">\\>Rosalind_6404\n",
    "CCTGCGGAAGATCGGCACTAGAATAGCCAGAACCGTTTCTCTGAGGCTTCCGGCCTTCCC\n",
    "TCCCACTAATAATTCTGAGG\n",
    "\n",
    ">\\>Rosalind_5959\n",
    "CCATCGGTAGCGCATCCTTAGTCCAATTAAGTCCCTATCCAGGCGCTCCGCCGAAGGTCT\n",
    "ATATCCATTTGTCAGCAGACACGC \n",
    "\n",
    ">\\>Rosalind_0808\n",
    "CCACCCTCGTGGTATGGCTAGGCATTCAGGAACCGGAGAACGCTTCAGACCAGCCCGGAC\n",
    "TGGGAACCTGCGGGCAGTAGGTGGAAT\n",
    "\n",
    "Sample Output: \n",
    ">Rosalind_0808\n",
    "\n",
    ">60.919540\n"
   ]
  },
  {
   "cell_type": "code",
   "execution_count": 1,
   "metadata": {},
   "outputs": [
    {
     "name": "stdout",
     "output_type": "stream",
     "text": [
      "Rosalind_7004\n",
      "51.672862\n"
     ]
    }
   ],
   "source": [
    "# initialize lists \n",
    "\n",
    "ros_id = []\n",
    "gc_content= []\n",
    "\n",
    "# open file & split FASTA strings\n",
    "with open(\"datasets/rosalind_gc.txt\") as f:\n",
    "    fasta = f.read().replace(\"\\n\",\"\").lstrip(\">\").split(\">\")\n",
    "\n",
    "for val in fasta:\n",
    "    if val:\n",
    "        # save Rosalind ID\n",
    "        ros_id.append(val[:13])\n",
    "\n",
    "        # cleanup 'Rosalind_xxxx' from strings\n",
    "        string = val[13:]\n",
    "        \n",
    "        # calculate gc content \n",
    "        num_gc = string.count(\"G\") + string.count(\"C\")\n",
    "        num_bases = len(string)\n",
    "\n",
    "        gc = num_gc/num_bases * 100 \n",
    "        gc_content.append(gc)\n",
    "\n",
    "# find index of FASTA string with highest GC content\n",
    "max_id = gc_content.index(max(gc_content))\n",
    "\n",
    "# print results \n",
    "print(ros_id[max_id])\n",
    "print(round(gc_content[max_id],6))\n",
    "    "
   ]
  },
  {
   "cell_type": "code",
   "execution_count": 3,
   "metadata": {},
   "outputs": [
    {
     "name": "stdout",
     "output_type": "stream",
     "text": [
      "Rosalind_7004\n",
      "51.672862\n"
     ]
    }
   ],
   "source": [
    "# using pandas \n",
    "import pandas as pd \n",
    "\n",
    "with open(\"datasets/rosalind_gc.txt\") as f:\n",
    "    fasta_list = f.read().replace(\"\\n\",\"\").lstrip(\">\").split(\">\")\n",
    "\n",
    "# initialize df\n",
    "df_fasta = pd.DataFrame()\n",
    "\n",
    "# populate df\n",
    "df_fasta = pd.DataFrame(fasta_list,columns = ['raw'])\n",
    "df_fasta['ros_id'] = df_fasta['raw'].str[:13]\n",
    "df_fasta['string'] = df_fasta['raw'].str[13:]\n",
    "\n",
    "# calculate gc content\n",
    "count_gc = df_fasta['string'].str.count(\"G\") + df_fasta['string'].str.count(\"C\")\n",
    "count_bases = df_fasta['string'].apply(len)\n",
    "df_fasta['gc_content'] = (count_gc / count_bases) * 100  \n",
    "\n",
    "# find index of max gc_content \n",
    "maxgc_id = df_fasta['gc_content'].idxmax()\n",
    "\n",
    "# print max gc content and Rosalind ID \n",
    "print(df_fasta['ros_id'][maxgc_id])\n",
    "print(f\"{df_fasta['gc_content'][maxgc_id]:.6f}\")"
   ]
  }
 ],
 "metadata": {
  "kernelspec": {
   "display_name": "base",
   "language": "python",
   "name": "python3"
  },
  "language_info": {
   "codemirror_mode": {
    "name": "ipython",
    "version": 3
   },
   "file_extension": ".py",
   "mimetype": "text/x-python",
   "name": "python",
   "nbconvert_exporter": "python",
   "pygments_lexer": "ipython3",
   "version": "3.8.5"
  }
 },
 "nbformat": 4,
 "nbformat_minor": 2
}
