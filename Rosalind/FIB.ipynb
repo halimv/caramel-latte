{
 "cells": [
  {
   "cell_type": "markdown",
   "metadata": {},
   "source": [
    "### Fibonnaci Rabbit Problem \n",
    "\n",
    "Fibonacci considered a mathematical exercise regarding the reproduction of rabbits, with the following assumptions: \n",
    "\n",
    "1. The population begins in the first month with a pair of newborn rabbits.\n",
    "2. Rabbits reach reproductive age after one month.\n",
    "3. In any given month, every rabbit of reproductive age mates with another rabbit of reproductive age.\n",
    "4. Exactly one month after two rabbits mate, they produce one male and one female rabbit.\n",
    "5. Rabbits never die or stop reproducing.\n",
    "\n",
    "Fibonacci wanted to calculate how many **pairs** of rabbits would remain in a year. Although the rabits' immortality may seem farfetched, this model is not too far off from the dynamics of the European rabbit population in Australia in the mid-19th century, where there were no natural predators. \n",
    "\n",
    "### Problem \n",
    "A sequence is an ordered collection of objects. A recurrence relation is a way of defining the terms of a sequence with respect to the values of previous terms. \n",
    "\n",
    "In this case, a key observation is that the number of offspring in any given month is equal to the number of rabbits that were alive two months prior. As a result, the number of rabbits $F_{N}$ in a given month ${n}$ can be found by the relation: \n",
    "\n",
    "$$ F_{n} = F_{n-1} + F_{n-2}$$\n",
    "$$ F_{1} = F_{2} = 1 $$\n",
    "\n",
    "\n",
    "### Given \n",
    "Positive integers $n \\le 40$ and $k \\le 5$ \n",
    "\n",
    "### Return \n",
    "The total number of rabbit pairs that will be present after $n$ months, if we begin with 1 pair and in each generation, every pair of reproduction-age rabbits produces a litter of $k$ rabbit pairs (instead of only 1 pair)"
   ]
  },
  {
   "cell_type": "code",
   "execution_count": 5,
   "metadata": {},
   "outputs": [],
   "source": [
    "## Dynamic Programming \n",
    "\n",
    "# 1) identify the mathematical structure \n",
    "# F(n) = F(n-1) + F(n-2) for n > 2\n",
    "\n",
    "# 2) solve recursively: \n",
    "# a) initialize base cases: at month 1 and 2, 1 pair of rabbits \n",
    "#    F(0) = 1; F(1) = 1;\n",
    "# b) call the function to solve a smaller version of the problem\n",
    "\n",
    "# 3) memoization: store previously computed values in an array \n",
    "\n",
    "# define base cases and dictionary\n",
    "\n",
    "def fib(n, memo): \n",
    "\n",
    "    # create array if function is called for the first time\n",
    "    if not memo:\n",
    "        memo = {0:1, 1:1}\n",
    "\n",
    "    # search for previously computed solutions\n",
    "    if n in memo:\n",
    "        return memo[n]\n",
    "\n",
    "    else: \n",
    "        memo[n] = fib(n-1, memo) + fib(n-2, memo)\n",
    "        return memo[n]\n",
    "    \n",
    "\n",
    "# initialize base cases & call function \n",
    "memo = {0:1, 1:1} \n"
   ]
  },
  {
   "cell_type": "code",
   "execution_count": 6,
   "metadata": {},
   "outputs": [
    {
     "data": {
      "text/plain": [
       "70330367711422815821835254877183549770181269836358732742604905087154537118196933579742249494562611733487750449241765991088186363265450223647106012053374121273867339111198139373125598767690091902245245323403501"
      ]
     },
     "execution_count": 6,
     "metadata": {},
     "output_type": "execute_result"
    }
   ],
   "source": [
    "fib(1000,memo)"
   ]
  },
  {
   "cell_type": "code",
   "execution_count": 7,
   "metadata": {},
   "outputs": [
    {
     "data": {
      "text/plain": [
       "19"
      ]
     },
     "execution_count": 7,
     "metadata": {},
     "output_type": "execute_result"
    }
   ],
   "source": [
    "# same scenario as above, except each mature rabbit pair births 3 rabbit pairs \n",
    "\n",
    "def fib2(n, k, memo=None): \n",
    "\n",
    "    if memo is None: \n",
    "        memo = {}\n",
    "    \n",
    "    # search for previously computed solutions\n",
    "    if n in memo:\n",
    "        return memo[n]\n",
    "\n",
    "    else: \n",
    "        memo[n] = fib2(n-1,k,memo) + (k * fib2(n-2,k,memo))\n",
    "        return memo[n]\n",
    "    \n",
    "\n",
    "# initialize base cases & call function \n",
    "memo = {0:1, 1:1} \n",
    "\n",
    "fib2(4,3,memo)"
   ]
  },
  {
   "cell_type": "markdown",
   "metadata": {},
   "source": [
    "### Troubleshooting"
   ]
  },
  {
   "cell_type": "code",
   "execution_count": 9,
   "metadata": {},
   "outputs": [
    {
     "data": {
      "text/plain": [
       "1323839213083"
      ]
     },
     "execution_count": 9,
     "metadata": {},
     "output_type": "execute_result"
    }
   ],
   "source": [
    "\n",
    "# open file \n",
    "with open(\"datasets/rosalind_fib.txt\") as f:\n",
    "    l = f.read().split()\n",
    "\n",
    "    n = int(l[0]) - 1 # zero-based indexing \n",
    "    k = int(l[1])\n",
    "\n",
    "fib2(n,k,memo)"
   ]
  }
 ],
 "metadata": {
  "kernelspec": {
   "display_name": "base",
   "language": "python",
   "name": "python3"
  },
  "language_info": {
   "codemirror_mode": {
    "name": "ipython",
    "version": 3
   },
   "file_extension": ".py",
   "mimetype": "text/x-python",
   "name": "python",
   "nbconvert_exporter": "python",
   "pygments_lexer": "ipython3",
   "version": "3.8.5"
  }
 },
 "nbformat": 4,
 "nbformat_minor": 2
}
