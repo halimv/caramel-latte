{
 "cells": [
  {
   "cell_type": "markdown",
   "metadata": {},
   "source": [
    "### Rosalind Problems"
   ]
  },
  {
   "cell_type": "markdown",
   "metadata": {},
   "source": [
    "Given: A string s of length at most 200 letters and four integers a, b, c and d\n",
    "\n",
    "Return: The slice of this string from indices a\n",
    "through b and c through d (with space in between), inclusively. In other words, we should include elements s[b] and s[d] in our slice."
   ]
  },
  {
   "cell_type": "code",
   "execution_count": null,
   "metadata": {},
   "outputs": [],
   "source": [
    "# opening files using with/as automatically handles opening/closing\n",
    "\n",
    "with open(\"rosalind_ini3.txt\",\"r\") as f:\n",
    "\n",
    "    # store lines \n",
    "    line1 = next(f);\n",
    "    line2 = next(f);\n",
    "\n",
    "    # store index values \n",
    "    ind = line2.split();\n",
    "    a = int(ind[0]);\n",
    "    b = int(ind[1]) + 1;\n",
    "    c = int(ind[2]);\n",
    "    d = int(ind[3]) +1;\n",
    "    \n",
    "    # return output \n",
    "    print(line1[a:b] + \" \" + line1[c:d])\n"
   ]
  },
  {
   "cell_type": "markdown",
   "metadata": {},
   "source": [
    "Given: Two positive integers a and b (a<b<10000).\n",
    "\n",
    "Return: The sum of all odd integers from a\n",
    "through b, inclusively."
   ]
  },
  {
   "cell_type": "code",
   "execution_count": null,
   "metadata": {},
   "outputs": [],
   "source": [
    "with open(\"rosalind_ini4.txt\",\"r\") as f:\n",
    "\n",
    "    # extract the integers\n",
    "    line1 = next(f);\n",
    "    a,b = map(int,line1.split());\n",
    "\n",
    "    # create a range of integers from a to b and sum odd integers\n",
    "    r = range(a,b+1)\n",
    "    sum = 0 \n",
    "\n",
    "    for i in r: \n",
    "        if i % 2 != 0:\n",
    "            sum = sum + i\n",
    "\n",
    "sum"
   ]
  },
  {
   "cell_type": "markdown",
   "metadata": {},
   "source": [
    "Given: A file containing at most 1000 lines.\n",
    "\n",
    "Return: A file containing all the even-numbered lines from the original file. Assume 1-based numbering of lines.\n",
    "\n",
    "Note that `enumerate` returns a tuple `(index,line)` for each `line` in file `f`. default numbering starts at 0  "
   ]
  },
  {
   "cell_type": "code",
   "execution_count": null,
   "metadata": {},
   "outputs": [],
   "source": [
    "with open(\"rosalind_ini5.txt\",\"r\") as f: \n",
    "    for index, line in enumerate(f,start =1):\n",
    "        if index % 2 == 0:\n",
    "            print(line.strip())\n",
    "\n",
    "\n",
    "# alternately \n",
    "with open('rosalind_ini5.txt','r') as f: \n",
    "    print(''.join(f.readlines()[1::2]))\n",
    "\n"
   ]
  },
  {
   "cell_type": "markdown",
   "metadata": {},
   "source": [
    "Given: A string *s* of length at most 10000 letters.\n",
    "\n",
    "Return: The number of occurrences of each word in s, where words are separated by spaces. Words are case-sensitive, and the lines in the output can be in any order."
   ]
  },
  {
   "cell_type": "code",
   "execution_count": null,
   "metadata": {},
   "outputs": [],
   "source": [
    "wordcount = {};\n",
    "\n",
    "with open(\"rosalind_ini6.txt\",\"r\") as f: \n",
    "    for line in f:\n",
    "        words = line.split()\n",
    "\n",
    "        for word in words:\n",
    "            if word in wordcount:\n",
    "                wordcount[word] = int(wordcount[word]) + 1;\n",
    "            else: \n",
    "                wordcount[word] = 1; \n",
    "\n",
    "for entry in wordcount: \n",
    "    print(entry + \" \" + str(wordcount[entry]))"
   ]
  },
  {
   "cell_type": "code",
   "execution_count": null,
   "metadata": {},
   "outputs": [],
   "source": [
    "with open(\"rosalind_ini6.txt\",\"r\") as f: \n",
    "    words = f.readline().split()\n",
    "\n",
    "for word in set(words):\n",
    "    print(word,words.count(word))"
   ]
  },
  {
   "cell_type": "markdown",
   "metadata": {},
   "source": [
    "### A Rapid Introduction to Molecular Biology \n",
    "\n",
    "Cell nuclei are filled with chromatin which contains nucleic acids. NA are a polymer, and the monomer unit is a **nucleotide**. \n",
    "\n",
    "**Nucleotides** are made up of a sugar, negatively charged phosphate ion, and *nucleobase* or *base* for short. Nucleotides of a specific nucleic acid will always have the same sugar and phosphate ion, differing only in the base. \n",
    "\n",
    "Polymerization is achieved by the bonding of the sugar and phosphate ion forming the sugar-phosphate backbone of nucleic acid strands. Nucleic acid strands are differentiated based on the order of the bae. \n",
    "\n",
    "For DNA (Deoxyribose Nuclei Acid), Deoxyribose is the sugar, and the four choices of bases are A,C,G,T (Adenine, Cytosine, Guanine, Thymine)\n",
    "\n",
    "\n",
    "### Problem \n",
    "Given: A DNA string s of length at most 1000 nt.\n",
    "\n",
    "Return: Four integers (separated by spaces) counting the respective number of times that the symbols 'A', 'C', 'G', and 'T' occur in s."
   ]
  },
  {
   "cell_type": "code",
   "execution_count": null,
   "metadata": {},
   "outputs": [],
   "source": [
    "# can't use set since it's unordered\n",
    "# using a dictionary to count occurences \n",
    "\n",
    "bases = {};\n",
    "\n",
    "with open(\"rosalind_dna.txt\",\"r\") as f:\n",
    "    string = f.readline().strip();\n",
    "\n",
    "for base in set(string):\n",
    "    bases[base] = string.count(base)\n",
    "        \n",
    "print(bases[\"A\"], bases[\"C\"], bases[\"G\"], bases[\"T\"])\n",
    "\n",
    "# storing variables in a dictionary allows for extension and maintenance"
   ]
  },
  {
   "cell_type": "code",
   "execution_count": null,
   "metadata": {},
   "outputs": [],
   "source": [
    "\n",
    "## alternatively, using a generator expression & unpacking\n",
    "\n",
    "with open(\"rosalind_dna.txt\",\"r\") as fh: \n",
    "    fh = fh.read()\n",
    "    print(*(fh.count(nuc) for nuc in \"ACGT\"))\n",
    "\n",
    "\n",
    "# although more compact, this version can be less readable \n",
    "# less efficient for larger strings because we are looping through the \n"
   ]
  },
  {
   "cell_type": "markdown",
   "metadata": {},
   "source": [
    "### The Second Nucleic Acid \n",
    "\n",
    "RNA (Ribose Nucleic Acid) with a different sugar ribose is also present in chromatin. It has the base *uracil* instead of *thymine*. \n",
    "\n",
    "DNA serves as a template for mRNA, created during RNA transcription of DNA, which can enter the far reaches of the cell. In contrast, DNA stays in the nucleus. \n",
    "\n",
    "### Problem \n",
    "An RNA string is a string formed from the alphabet containing 'A', 'C', 'G', and 'U'.\n",
    "\n",
    "Given a DNA string t corresponding to a coding strand, its transcribed RNA string u is formed by replacing all occurrences of 'T' in t with 'U' in u.\n",
    "\n",
    "Given: A DNA string t having length at most 1000 nt.\n",
    "Return: The transcribed RNA string of t."
   ]
  },
  {
   "cell_type": "code",
   "execution_count": null,
   "metadata": {},
   "outputs": [],
   "source": [
    "with open(\"rosalind_rna.txt\",\"r\") as t: \n",
    "    t = t.read().strip()\n",
    "    u = \"\"\n",
    "\n",
    "    for bp in t: \n",
    "        if bp == \"T\":\n",
    "            u = u + \"U\"\n",
    "        else: \n",
    "            u = u + bp \n",
    "\n",
    "print(u)\n",
    "\n",
    "# this approach works but is inefficient \n",
    "# strings are immutable - a new string is created in each iteration \n",
    "# results in O(n^2) complexity as string length grows  "
   ]
  },
  {
   "cell_type": "code",
   "execution_count": null,
   "metadata": {},
   "outputs": [],
   "source": [
    "with open('rosalind_rna.txt','r') as t: \n",
    "    t = t.read().strip()\n",
    "\n",
    "u_l = []\n",
    "\n",
    "for bp in t: \n",
    "    if bp == \"T\":\n",
    "        u_l.append('U')\n",
    "    else: \n",
    "        u_l.append(bp)\n",
    "\n",
    "\n",
    "u = ''.join(u_l)\n",
    "u\n",
    "\n",
    "# this is a more efficient way, with O(n) complexity (linear)"
   ]
  },
  {
   "cell_type": "code",
   "execution_count": null,
   "metadata": {},
   "outputs": [],
   "source": [
    "## another alternative \n",
    "# efficient and most Pythonic, using replace() as designed\n",
    "\n",
    "with open('rosalind_rna.txt','r') as t: \n",
    "    t = t.read().strip()\n",
    "    u = t.replace(\"T\",\"U\")\n",
    "\n",
    "print(u)"
   ]
  },
  {
   "cell_type": "markdown",
   "metadata": {},
   "source": [
    "### The Secondary and Tertiary Structures of DNA \n",
    "\n",
    "The DNA molecule is a double helix made up of two strands running in opposite directions. Each base bonds to a base in the opposite strand complementarily (A-T) and (G-C) - called a **base pair**\n",
    "\n",
    "The tertiary structure refers to the 3D shape of the molecule, while the secondary is compriesd of the two opposite strands and base pairs. \n",
    "\n",
    "### Problem \n",
    "In DNA strings, symbols 'A' and 'T' are complements of each other, as are 'C' and 'G'.\n",
    "\n",
    "The reverse complement of a DNA string s is the string s<sup>c</sup> formed by reversing the symbols of s, then taking the complement of each symbol (e.g., the reverse complement of \"GTCA\" is \"TGAC\").\n",
    "\n",
    "Given: A DNA string s of length at most 1000 bp.\n",
    "Return: The reverse complement s<sup>c</sup> of s.\n",
    "\n"
   ]
  },
  {
   "cell_type": "code",
   "execution_count": null,
   "metadata": {},
   "outputs": [],
   "source": [
    "# Note the *reverse* complement is due to the two strands running in \n",
    "# *opposite* directions \n",
    "\n",
    "# must reverse first and then replace! \n",
    "with open('rosalind_revc.txt','r') as s:\n",
    "    s = s.read().strip()\n",
    "\n",
    "sc_list = list(s) \n",
    "sc_list.reverse()\n",
    "\n",
    "\n",
    "# list comprehension\n",
    "sc_list = [\n",
    "    'A' if nt == 'T' else \n",
    "    'T' if nt == 'A' else\n",
    "    'G' if nt == 'C' else\n",
    "    'C' if nt == 'G' else nt\n",
    "\n",
    "    for nt in sc_list\n",
    "]\n",
    "\n",
    "sc = ''.join(sc_list)\n",
    "sc\n",
    "\n"
   ]
  },
  {
   "cell_type": "code",
   "execution_count": null,
   "metadata": {},
   "outputs": [],
   "source": [
    "## more efficient method using translation table\n",
    "\n",
    "with open('rosalind_revc.txt', 'r') as s:\n",
    "    s = s.read().strip()\n",
    "\n",
    "sc = s[::-1].translate(str.maketrans(\"ATGC\", \"TACG\"))\n",
    "sc\n"
   ]
  },
  {
   "cell_type": "code",
   "execution_count": 16,
   "metadata": {},
   "outputs": [],
   "source": [
    "## Dynamic Programming \n",
    "\n",
    "# 1) identify the mathematical structure \n",
    "# F(n) = F(n-1) + F(n-2) for n > 2\n",
    "\n",
    "# 2) solve recursively: \n",
    "# a) initialize base cases: at month 1 and 2, 1 pair of rabbits \n",
    "#    F(0) = 1; F(1) = 1;\n",
    "# b) call the function to solve a smaller version of the problem\n",
    "\n",
    "# 3) memoization: store previously computed values in an array \n",
    "\n",
    "# define base cases and dictionary\n",
    "\n",
    "def fib(n, memo): \n",
    "\n",
    "    # create array if function is called for the first time\n",
    "    if not memo:\n",
    "        memo = {0:1, 1:1}\n",
    "\n",
    "    # search for previously computed solutions\n",
    "    if n in memo:\n",
    "        return memo[n]\n",
    "\n",
    "    else: \n",
    "        memo[n] = fib(n-1, memo) + fib(n-2, memo)\n",
    "        return memo[n]\n",
    "    \n",
    "\n",
    "# initialize base cases & call function \n",
    "memo = {0:1, 1:1} \n"
   ]
  },
  {
   "cell_type": "code",
   "execution_count": 33,
   "metadata": {},
   "outputs": [
    {
     "data": {
      "text/plain": [
       "70330367711422815821835254877183549770181269836358732742604905087154537118196933579742249494562611733487750449241765991088186363265450223647106012053374121273867339111198139373125598767690091902245245323403501"
      ]
     },
     "execution_count": 33,
     "metadata": {},
     "output_type": "execute_result"
    }
   ],
   "source": [
    "fib(1000,memo)"
   ]
  },
  {
   "cell_type": "code",
   "execution_count": 14,
   "metadata": {},
   "outputs": [
    {
     "data": {
      "text/plain": [
       "19"
      ]
     },
     "execution_count": 14,
     "metadata": {},
     "output_type": "execute_result"
    }
   ],
   "source": [
    "# same scenario as above, except each mature rabbit pair births 3 rabbit pairs \n",
    "\n",
    "def fib2(n, k, memo=None): \n",
    "\n",
    "    if memo is None: \n",
    "        memo = {}\n",
    "    \n",
    "    # search for previously computed solutions\n",
    "    if n in memo:\n",
    "        return memo[n]\n",
    "\n",
    "    else: \n",
    "        memo[n] = fib2(n-1,k,memo) + (k * fib2(n-2,k,memo))\n",
    "        return memo[n]\n",
    "    \n",
    "\n",
    "# initialize base cases & call function \n",
    "memo = {0:1, 1:1} \n",
    "\n",
    "fib2(4,3,memo)"
   ]
  },
  {
   "cell_type": "code",
   "execution_count": 17,
   "metadata": {},
   "outputs": [
    {
     "data": {
      "text/plain": [
       "1323839213083"
      ]
     },
     "execution_count": 17,
     "metadata": {},
     "output_type": "execute_result"
    }
   ],
   "source": [
    "\n",
    "# open file \n",
    "with open(\"rosalind_fib.txt\") as f:\n",
    "    l = f.read().split()\n",
    "\n",
    "    n = int(l[0]) - 1 # zero-based indexing \n",
    "    k = int(l[1])\n",
    "\n",
    "fib2(n,k,memo)"
   ]
  },
  {
   "cell_type": "markdown",
   "metadata": {},
   "source": [
    "### Computing GC Content \n",
    "\n",
    "#### Identifying Unknown DNA Quickly\n",
    "Languages can be identified using software by analyzing the frequency of each letter. Each language has its own letter frequency, and the same can be said for genomes (e.g. human vs. animal)\n",
    "\n",
    "Although two members of the same species have different genomes, they share 99.9% of the 3.2 billionbase pairs in a human genome (excluding those with major genetic defects). An average case genome such as this can be assembled for any species. \n",
    "\n",
    "In a double stranded molecule cytosine and guanine will always appear in equal amounts (G&C). GC content (% of bases that are either cytosine or guanine) can be used to differentiate many prokaryotes and eukaryotes by using small DNA samples. \n",
    "\n",
    "\n",
    "#### Problem \n",
    "The GC-content of a DNA string is given by the percentage of symbols in the string that are 'C' or 'G'. For example, the GC-content of \"AGCTATAG\" is 37.5%. Note that the reverse complement of any DNA string has the same GC-content.\n",
    "\n",
    "DNA strings must be labeled when they are consolidated into a database. A commonly used method of string labeling is called FASTA format. In this format, the string is introduced by a line that begins with '>', followed by some labeling information. Subsequent lines contain the string itself; the first line to begin with '>' indicates the label of the next string.\n",
    "\n",
    "In Rosalind's implementation, a string in FASTA format will be labeled by the ID \"Rosalind_xxxx\", where \"xxxx\" denotes a four-digit code between 0000 and 9999.\n",
    "\n",
    "Given: At most 10 DNA strings in FASTA format (of length at most 1 kbp each).\n",
    "\n",
    "Return: The ID of the string having the highest GC-content, followed by the GC-content of that string. Rosalind allows for a default error of 0.001 in all decimal answers unless otherwise stated; please see the note on absolute error below. \n",
    "\n",
    "Sample  Dataset: \n",
    ">\\>Rosalind_6404\n",
    "CCTGCGGAAGATCGGCACTAGAATAGCCAGAACCGTTTCTCTGAGGCTTCCGGCCTTCCC\n",
    "TCCCACTAATAATTCTGAGG\n",
    "\n",
    ">\\>Rosalind_5959\n",
    "CCATCGGTAGCGCATCCTTAGTCCAATTAAGTCCCTATCCAGGCGCTCCGCCGAAGGTCT\n",
    "ATATCCATTTGTCAGCAGACACGC \n",
    "\n",
    ">\\>Rosalind_0808\n",
    "CCACCCTCGTGGTATGGCTAGGCATTCAGGAACCGGAGAACGCTTCAGACCAGCCCGGAC\n",
    "TGGGAACCTGCGGGCAGTAGGTGGAAT\n",
    "\n",
    "Sample Output: \n",
    ">Rosalind_0808\n",
    "\n",
    ">60.919540\n"
   ]
  },
  {
   "cell_type": "code",
   "execution_count": 2,
   "metadata": {},
   "outputs": [
    {
     "name": "stdout",
     "output_type": "stream",
     "text": [
      "Rosalind_7004\n",
      "51.672862\n"
     ]
    }
   ],
   "source": [
    "# initialize lists \n",
    "\n",
    "ros_id = []\n",
    "gc_content= []\n",
    "\n",
    "# open file & split FASTA strings\n",
    "with open(\"rosalind_gc.txt\") as f:\n",
    "    fasta = f.read().replace(\"\\n\",\"\").lstrip(\">\").split(\">\")\n",
    "\n",
    "for val in fasta:\n",
    "    if val:\n",
    "        # save Rosalind ID\n",
    "        ros_id.append(val[:13])\n",
    "\n",
    "        # cleanup 'Rosalind_xxxx' from strings\n",
    "        string = val[13:]\n",
    "        \n",
    "        # calculate gc content \n",
    "        num_gc = string.count(\"G\") + string.count(\"C\")\n",
    "        num_bases = len(string)\n",
    "\n",
    "        gc = num_gc/num_bases * 100 \n",
    "        gc_content.append(gc)\n",
    "\n",
    "# find index of FASTA string with highest GC content\n",
    "max_id = gc_content.index(max(gc_content))\n",
    "\n",
    "# print results \n",
    "print(ros_id[max_id])\n",
    "print(round(gc_content[max_id],6))\n",
    "    "
   ]
  },
  {
   "cell_type": "code",
   "execution_count": 1,
   "metadata": {},
   "outputs": [
    {
     "name": "stdout",
     "output_type": "stream",
     "text": [
      "Rosalind_7004\n",
      "51.672862\n"
     ]
    }
   ],
   "source": [
    "# using pandas \n",
    "import pandas as pd \n",
    "\n",
    "with open(\"rosalind_gc.txt\") as f:\n",
    "    fasta_list = f.read().replace(\"\\n\",\"\").lstrip(\">\").split(\">\")\n",
    "\n",
    "# initialize df\n",
    "df_fasta = pd.DataFrame()\n",
    "\n",
    "# populate df\n",
    "df_fasta = pd.DataFrame(fasta_list,columns = ['raw'])\n",
    "df_fasta['ros_id'] = df_fasta['raw'].str[:13]\n",
    "df_fasta['string'] = df_fasta['raw'].str[13:]\n",
    "\n",
    "# calculate gc content\n",
    "count_gc = df_fasta['string'].str.count(\"G\") + df_fasta['string'].str.count(\"C\")\n",
    "count_bases = df_fasta['string'].apply(len)\n",
    "df_fasta['gc_content'] = (count_gc / count_bases) * 100  \n",
    "\n",
    "# find index of max gc_content \n",
    "maxgc_id = df_fasta['gc_content'].idxmax()\n",
    "\n",
    "# print max gc content and Rosalind ID \n",
    "print(df_fasta['ros_id'][maxgc_id])\n",
    "print(f\"{df_fasta['gc_content'][maxgc_id]:.6f}\")"
   ]
  },
  {
   "cell_type": "markdown",
   "metadata": {},
   "source": [
    "#### Evolution as a Sequence of Mistakes\n",
    "A mutation is a mistake that occurs during the creation/transcription of a nucleic acid, particularly DNA. This can be negative or positive. Macro effects of evolution are accumulated result of beneficial mutations over many generations. \n",
    "\n",
    "Point mutation, the simplest and most common type, replaces one base with another at a single nucleotide. In the case of DNA, a point mutation changes the complementary base as well. \n",
    "\n",
    "Two DNA strands from different organisms are homologous if they share a recent ancestor - counting # of bases at which homologous strands differ provides us with the minimum number of point mutations that could have occured on the evolutionary path between the two strands. \n",
    "\n",
    "Problem: Given two strings s and t of equal length, the Hamming distance between s and t, denoted dH(s,t), is the number of corresponding symbols that differ in s and t. \n",
    "\n",
    "Given: Two DNA strings s and t of equal length (not exceeding 1 kbp).\n",
    "Return: The Hamming distance dH(s,t)\n",
    "\n",
    "Sample Dataset: \n",
    ">GAGCCTACTAACGGGAT\n",
    ">\n",
    ">CATCGTAATGACGGCCT\n",
    "\n",
    "Sample Output: \n",
    ">7"
   ]
  },
  {
   "cell_type": "code",
   "execution_count": 23,
   "metadata": {},
   "outputs": [
    {
     "data": {
      "text/plain": [
       "472"
      ]
     },
     "execution_count": 23,
     "metadata": {},
     "output_type": "execute_result"
    }
   ],
   "source": [
    "strings = []\n",
    "\n",
    "with open(\"rosalind_hamm.txt\") as f:\n",
    "    fh = f.read().split()\n",
    "    for line in fh: \n",
    "        strings.append(line)\n",
    "\n",
    "str1 = strings[0]\n",
    "str2 = strings[1]\n",
    "hamm_dist = 0\n",
    "\n",
    "if len(str1) == len(str2):\n",
    "    str_length = len(str1)\n",
    "else: \n",
    "    print(\"String Length Mismatch\")\n",
    "\n",
    "for base in range(str_length):\n",
    "    if str1[base] != str2[base]:\n",
    "        hamm_dist = hamm_dist + 1\n",
    "    \n",
    "hamm_dist"
   ]
  },
  {
   "cell_type": "code",
   "execution_count": 3,
   "metadata": {},
   "outputs": [
    {
     "data": {
      "text/plain": [
       "472"
      ]
     },
     "execution_count": 3,
     "metadata": {},
     "output_type": "execute_result"
    }
   ],
   "source": [
    "# alternative method \n",
    "\n",
    "with open('rosalind_hamm.txt') as f: \n",
    "    dna1 = f.readline().strip()\n",
    "    dna2 = f.readline().strip()\n",
    "\n",
    "# convert strings into a list of tuples \n",
    "hamm_d = sum(a != b for a,b in zip(dna1,dna2))\n",
    "hamm_d"
   ]
  },
  {
   "cell_type": "markdown",
   "metadata": {},
   "source": [
    "#### Mendel's First Law \n",
    "\n",
    "For any factor, an organism randomly passes one of two alleles to each offspring, so that an individual receives one allele from each parent. \n",
    "\n",
    "Alleles are either dominant or recessive. A phenotype is displayed for homozygous and heterozygous dominant alelles, or homozygous recessive alleles only. \n",
    "\n",
    "#### Probability \n",
    "An event (collection of outcomes) can be written as the sum of probabilities of its constitutient outcomes. For dependent outcomes, the probability is the product of probabilities along the path from the beginning of a tree. '\n",
    "\n",
    "\n",
    "Given: Three positive integers k, m, and n, representing a population containing k+m+n organisms: k individuals are homozygous dominant for a factor, m are heterozygous, and n are homozygous recessive.\n",
    "\n",
    "Return: The probability that two randomly selected mating organisms will produce an individual possessing a dominant allele (and thus displaying the dominant phenotype). Assume that any two organisms can mate.\n",
    "\n",
    "Sample Dataset\n",
    "> 2 2 2 \n",
    "\n",
    "Sample Output \n",
    "> 0.7833"
   ]
  },
  {
   "cell_type": "code",
   "execution_count": 193,
   "metadata": {},
   "outputs": [
    {
     "name": "stdout",
     "output_type": "stream",
     "text": [
      "0.7768361581920904\n"
     ]
    }
   ],
   "source": [
    "# this approach involves solving for the binomial coefficients of: \n",
    "# 1) all possible ways to choose a pair from the total population (n+m+k)_C_2 \n",
    "# 2) individual favorable pairings \n",
    "\n",
    "ints = [19,25,16]\n",
    "\n",
    "k = ints[0]\n",
    "m = ints[1]\n",
    "n = ints[2]\n",
    "\n",
    "total_population = k + m + n\n",
    "\n",
    "P_kk = (k*(k-1))/2 \n",
    "P_km = k * m \n",
    "P_kn = k * n\n",
    "P_mm = (m*(m-1))/2 * 0.75 \n",
    "P_mn = (m * n) * 0.5\n",
    "#P_nn = 0\n",
    "\n",
    "possible = (total_population*(total_population-1))/2\n",
    "favorable = P_kk + P_km + P_kn + P_mm + P_mn\n",
    "\n",
    "P_dominant = favorable/possible\n",
    "\n",
    "print(P_dominant)\n"
   ]
  },
  {
   "cell_type": "code",
   "execution_count": null,
   "metadata": {},
   "outputs": [
    {
     "name": "stdout",
     "output_type": "stream",
     "text": [
      "k,m,n : ['19', '25', '16']\n",
      "Probability of at least one dominant allele\n",
      "Calculated from binomial coefficient: 0.78333\n",
      "For 1,000 trials: 0.77\n",
      "For 10,000 trials: 0.7819\n",
      "For 100,000 trials 0.77533\n",
      "For 100,000 trials 0.777247\n"
     ]
    }
   ],
   "source": [
    "import numpy as np\n",
    "import random\n",
    "\n",
    "# Monte Carlo Simulation approach \n",
    "\n",
    "# determine child genotype given 2 parent genotypes\n",
    "def child(parent1,parent2):\n",
    "    if parent1 == 'AA' and parent2 == 'AA':\n",
    "        return 'AA'\n",
    "    elif (parent1 == 'AA' and parent2 == 'Aa') or (parent1 == 'Aa' and parent2 == 'AA'): \n",
    "        return np.random.choice(['AA','Aa']) \n",
    "    elif (parent1 == 'AA' and parent2 == 'aa') or (parent1 == 'aa' and parent2 == 'AA'):\n",
    "        return 'Aa'\n",
    "    elif parent1 == 'Aa' and parent2 == 'Aa':\n",
    "        return np.random.choice(['AA','Aa','aa'], p = [0.25,0.5,0.25])\n",
    "    elif (parent1 == 'Aa' and parent2 == 'aa') or (parent1 == 'aa' and parent2 == 'Aa'):\n",
    "        return np.random.choice(['Aa','aa']) \n",
    "    elif parent1 == 'aa' and parent2 == 'aa':\n",
    "        return 'aa'\n",
    "    else:\n",
    "        print(\"error\") \n",
    "        return\n",
    "\n",
    "# simulate selection of 2 individuals from the total population and return probability of the child displaying the phenotype\n",
    "def simulate_1A(k,m,n,trials):\n",
    "\n",
    "    # initialize dictionary of child genotypes\n",
    "    genotype_counts = {'AA':0,'Aa':0,'aa':0}\n",
    "\n",
    "    # define probabilities of selecting k,m, or n \n",
    "    population = ['AA'] * k + ['Aa'] * m + ['aa'] * n\n",
    "\n",
    "        \n",
    "    for i in range(trials):\n",
    "        parents = np.random.choice(population,2,False)\n",
    "        child_genotype = child(parents[0],parents[1])\n",
    "       \n",
    "        genotype_counts[child_genotype] += 1\n",
    "\n",
    "\n",
    "    atleast1A = genotype_counts['AA'] + genotype_counts['Aa']\n",
    "\n",
    "    return atleast1A/trials\n",
    "\n",
    "            \n",
    "#body \n",
    "with open(\"rosalind_iprb.txt\") as fh: \n",
    "    ints = fh.read().split()\n",
    "\n",
    "print('k,m,n :',ints)\n",
    "k,m,n = int(ints[0]), int(ints[1]), int(ints[2])\n",
    "\n",
    "probability_1k = simulate_1A(k,m,n,1000)\n",
    "probability_10k = simulate_1A(k,m,n,10000)\n",
    "probability_100k = simulate_1A(k,m,n,100000)\n",
    "probability_1m = simulate_1A(k,m,n,1000000)\n",
    "\n",
    "print('Probability of at least one dominant allele')\n",
    "print('Calculated from binomial coefficient: 0.78333')\n",
    "print('For 1,000 trials:',probability_1k)\n",
    "print('For 10,000 trials:',probability_10k)\n",
    "print('For 100,000 trials',probability_100k)\n",
    "print('For 100,000 trials',probability_1m)\n",
    "\n",
    "# note: for the dataset [k,m,n] = ['19','25','16'], rosalind accepted the simulated answer at 1m trials 0.777247\n",
    "# calculated using the binomial coefficient, the solution was 0.776836, an inaccuracy of 0.053% "
   ]
  },
  {
   "cell_type": "code",
   "execution_count": 184,
   "metadata": {},
   "outputs": [
    {
     "name": "stdout",
     "output_type": "stream",
     "text": [
      "A: 0.5016\n",
      "B: 0.2993\n",
      "C: 0.1991\n"
     ]
    }
   ],
   "source": [
    "#testing np.random.choice() when not given p array \n",
    "\n",
    "countings = {'A':0,'B':0,'C':0}\n",
    "\n",
    "array = ['A']*5 + ['B']*3 + ['C']*2\n",
    "trials = 10000\n",
    "\n",
    "for i in range (trials): \n",
    "    selection = np.random.choice(array,1,False)\n",
    "    countings[selection[0]] += 1 \n",
    "\n",
    "print('A:',countings['A']/trials)\n",
    "print('B:',countings['B']/trials)\n",
    "print('C:',countings['C']/trials)"
   ]
  },
  {
   "cell_type": "code",
   "execution_count": 204,
   "metadata": {},
   "outputs": [
    {
     "name": "stdout",
     "output_type": "stream",
     "text": [
      "['35', '3']\n"
     ]
    }
   ],
   "source": [
    "with open(\"datasets/rosalind_fib.txt\") as fh: \n",
    "    f = fh.read().split()\n",
    "    print(f)"
   ]
  }
 ],
 "metadata": {
  "kernelspec": {
   "display_name": "base",
   "language": "python",
   "name": "python3"
  },
  "language_info": {
   "codemirror_mode": {
    "name": "ipython",
    "version": 3
   },
   "file_extension": ".py",
   "mimetype": "text/x-python",
   "name": "python",
   "nbconvert_exporter": "python",
   "pygments_lexer": "ipython3",
   "version": "3.8.5"
  }
 },
 "nbformat": 4,
 "nbformat_minor": 2
}
