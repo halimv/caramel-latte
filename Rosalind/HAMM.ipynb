{
 "cells": [
  {
   "cell_type": "markdown",
   "metadata": {},
   "source": [
    "#### Evolution as a Sequence of Mistakes\n",
    "A mutation is a mistake that occurs during the creation/transcription of a nucleic acid, particularly DNA. This can be negative or positive. Macro effects of evolution are accumulated result of beneficial mutations over many generations. \n",
    "\n",
    "Point mutation, the simplest and most common type, replaces one base with another at a single nucleotide. In the case of DNA, a point mutation changes the complementary base as well. \n",
    "\n",
    "Two DNA strands from different organisms are homologous if they share a recent ancestor - counting # of bases at which homologous strands differ provides us with the minimum number of point mutations that could have occured on the evolutionary path between the two strands. \n",
    "\n",
    "Problem: Given two strings s and t of equal length, the Hamming distance between s and t, denoted dH(s,t), is the number of corresponding symbols that differ in s and t. \n",
    "\n",
    "Given: Two DNA strings s and t of equal length (not exceeding 1 kbp).\n",
    "Return: The Hamming distance dH(s,t)\n",
    "\n",
    "Sample Dataset: \n",
    ">GAGCCTACTAACGGGAT\n",
    ">\n",
    ">CATCGTAATGACGGCCT\n",
    "\n",
    "Sample Output: \n",
    ">7"
   ]
  },
  {
   "cell_type": "code",
   "execution_count": 1,
   "metadata": {},
   "outputs": [
    {
     "data": {
      "text/plain": [
       "472"
      ]
     },
     "execution_count": 1,
     "metadata": {},
     "output_type": "execute_result"
    }
   ],
   "source": [
    "strings = []\n",
    "\n",
    "with open(\"datasets/rosalind_hamm.txt\") as f:\n",
    "    fh = f.read().split()\n",
    "    for line in fh: \n",
    "        strings.append(line)\n",
    "\n",
    "str1 = strings[0]\n",
    "str2 = strings[1]\n",
    "hamm_dist = 0\n",
    "\n",
    "if len(str1) == len(str2):\n",
    "    str_length = len(str1)\n",
    "else: \n",
    "    print(\"String Length Mismatch\")\n",
    "\n",
    "for base in range(str_length):\n",
    "    if str1[base] != str2[base]:\n",
    "        hamm_dist = hamm_dist + 1\n",
    "    \n",
    "hamm_dist"
   ]
  },
  {
   "cell_type": "code",
   "execution_count": 2,
   "metadata": {},
   "outputs": [
    {
     "data": {
      "text/plain": [
       "472"
      ]
     },
     "execution_count": 2,
     "metadata": {},
     "output_type": "execute_result"
    }
   ],
   "source": [
    "# alternative method \n",
    "\n",
    "with open('datasets/rosalind_hamm.txt') as f: \n",
    "    dna1 = f.readline().strip()\n",
    "    dna2 = f.readline().strip()\n",
    "\n",
    "# convert strings into a list of tuples \n",
    "hamm_d = sum(a != b for a,b in zip(dna1,dna2))\n",
    "hamm_d"
   ]
  }
 ],
 "metadata": {
  "kernelspec": {
   "display_name": "base",
   "language": "python",
   "name": "python3"
  },
  "language_info": {
   "codemirror_mode": {
    "name": "ipython",
    "version": 3
   },
   "file_extension": ".py",
   "mimetype": "text/x-python",
   "name": "python",
   "nbconvert_exporter": "python",
   "pygments_lexer": "ipython3",
   "version": "3.8.5"
  }
 },
 "nbformat": 4,
 "nbformat_minor": 2
}
