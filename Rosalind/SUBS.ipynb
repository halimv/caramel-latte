{
 "cells": [
  {
   "cell_type": "markdown",
   "metadata": {},
   "source": [
    "### Combing Through the Haystack \n",
    "\n",
    "A **motif** in DNA is defined as a commonly shared interval of DNA. A common task is to search through an organism's genome for a known motif. \n",
    "\n",
    "The existence of a motif in the genomes of two different organisms (usually from different species) is highly suggestive that the interval has the same function in both organisms. \n",
    "\n",
    "Genomes are riddled with **repeats**: intervals of DNA that occur multiple times, possibly with slight modificiations. These frequency of these repeats suggests that genomes are anything but random. \n",
    "\n",
    "The **Alu repeat** is the most common repeat in humans. It is approx. 30 bp long and recurs around a million times throughout every human genome. When a new Alu repeat is inserted into a genome, it frequently causes genetic disorders. \n",
    "\n",
    "### Problem \n",
    "Given two string $s$ and $t$, where $t$ is a substring of $s$, find the beginning position $t$ in $s$. e.g. find if $t = s[j:k]$, return a list of $j$\n",
    "\n",
    "### Given \n",
    "Two DNA Strings $s$ and $t$ (each of length < 1 kbp)\n",
    "### Return\n",
    "All locations of $t$ as a substring of $s$ \n",
    "\n",
    "### Sample Dataset\n",
    "> GATATATGCATATACTT\n",
    ">\n",
    "> ATAT\n",
    "\n",
    "### Sample Output \n",
    "> 2 4 10\n",
    "\n",
    "** note the above is 1-based indexing \n",
    "\n",
    "\n",
    "\n"
   ]
  },
  {
   "cell_type": "code",
   "execution_count": 44,
   "metadata": {},
   "outputs": [
    {
     "name": "stdout",
     "output_type": "stream",
     "text": [
      "Substring: CGCCTCCCG\n",
      "34 97 161 184 286 321 348 360 367 374 426 452 520 547 554 561 591 683 690 697 763 857 873 880 \n"
     ]
    }
   ],
   "source": [
    "def subs(filename):\n",
    "\n",
    "    with open(filename) as fh: \n",
    "        f = fh.read().split()\n",
    "        s = f[0] # DNA string \n",
    "        t = f[1] # substring\n",
    "    \n",
    "    print(\"Substring:\",t)\n",
    "\n",
    "    subs_pos_1based = \"\" # match sample output format\n",
    "\n",
    "    # look through string for first letter match, then see if the rest matches\n",
    "    for i in range(0,len(s)):\n",
    "        if s[i] == t[0]: \n",
    "            if s[i:i+len(t)] == t:\n",
    "                #print(s[i:i+len(t)]) \n",
    "                subs_pos_1based += str(i+1) + \" \" # 1 based indexing\n",
    "\n",
    "    print(subs_pos_1based)\n",
    "\n",
    "    ## check: \n",
    "    # for pos in subs_pos_1based:\n",
    "        #print(s[(pos-1):(pos+len(t)-1)])\n",
    "    \n",
    "subs(\"datasets/rosalind_subs.txt\")\n"
   ]
  },
  {
   "cell_type": "markdown",
   "metadata": {},
   "source": [
    "### Thoughts\n",
    "\n",
    "Note that Rosalind only accepted an answer in the above format, matching the sample output. Initially the positions were placed in a list - Rosalind did not accept that format. \n",
    "\n",
    "The approach above works, but could be optimized. To be more efficient I chose to first look through each string for a match to the first letter of the substring. Only if it matches, will the program look for the rest of the substring.\n",
    "\n",
    "But if the DNA string has many occurences of $t[0]$, time complexity would end up being similar to $O(n \\times m)$, which might not save too much time. \n",
    "\n",
    "A search shows that more sophisticated algorithms such as Knuth-Morris-Pratt or Boyer-Moore can improve substring search by skipping over sections that are unlikely to contain a match - but those algorithms seem to be better suited to more complicated applications. \n"
   ]
  }
 ],
 "metadata": {
  "kernelspec": {
   "display_name": "base",
   "language": "python",
   "name": "python3"
  },
  "language_info": {
   "codemirror_mode": {
    "name": "ipython",
    "version": 3
   },
   "file_extension": ".py",
   "mimetype": "text/x-python",
   "name": "python",
   "nbconvert_exporter": "python",
   "pygments_lexer": "ipython3",
   "version": "3.8.5"
  }
 },
 "nbformat": 4,
 "nbformat_minor": 2
}
