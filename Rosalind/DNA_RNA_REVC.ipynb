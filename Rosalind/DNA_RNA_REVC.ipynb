{
 "cells": [
  {
   "cell_type": "markdown",
   "metadata": {},
   "source": [
    "### A Rapid Introduction to Molecular Biology \n",
    "\n",
    "Cell nuclei are filled with chromatin which contains nucleic acids. NA are a polymer, and the monomer unit is a **nucleotide**. \n",
    "\n",
    "**Nucleotides** are made up of a sugar, negatively charged phosphate ion, and *nucleobase* or *base* for short. Nucleotides of a specific nucleic acid will always have the same sugar and phosphate ion, differing only in the base. \n",
    "\n",
    "Polymerization is achieved by the bonding of the sugar and phosphate ion forming the sugar-phosphate backbone of nucleic acid strands. Nucleic acid strands are differentiated based on the order of the bae. \n",
    "\n",
    "For DNA (Deoxyribose Nuclei Acid), Deoxyribose is the sugar, and the four choices of bases are A,C,G,T (Adenine, Cytosine, Guanine, Thymine)\n",
    "\n",
    "\n",
    "### Problem \n",
    "Given: A DNA string s of length at most 1000 nt.\n",
    "\n",
    "Return: Four integers (separated by spaces) counting the respective number of times that the symbols 'A', 'C', 'G', and 'T' occur in s."
   ]
  },
  {
   "cell_type": "code",
   "execution_count": 3,
   "metadata": {},
   "outputs": [
    {
     "name": "stdout",
     "output_type": "stream",
     "text": [
      "206 228 199 234\n"
     ]
    }
   ],
   "source": [
    "# can't use set since it's unordered\n",
    "# using a dictionary to count occurences \n",
    "\n",
    "bases = {};\n",
    "\n",
    "with open(\"datasets/rosalind_dna.txt\",\"r\") as f:\n",
    "    string = f.readline().strip();\n",
    "\n",
    "for base in set(string):\n",
    "    bases[base] = string.count(base)\n",
    "        \n",
    "print(bases[\"A\"], bases[\"C\"], bases[\"G\"], bases[\"T\"])\n",
    "\n",
    "# storing variables in a dictionary allows for extension and maintenance"
   ]
  },
  {
   "cell_type": "code",
   "execution_count": 4,
   "metadata": {},
   "outputs": [
    {
     "name": "stdout",
     "output_type": "stream",
     "text": [
      "206 228 199 234\n"
     ]
    }
   ],
   "source": [
    "\n",
    "## alternatively, using a generator expression & unpacking\n",
    "\n",
    "with open(\"datasets/rosalind_dna.txt\",\"r\") as fh: \n",
    "    fh = fh.read()\n",
    "    print(*(fh.count(nuc) for nuc in \"ACGT\"))\n",
    "\n",
    "\n",
    "# although more compact, this version can be less readable \n",
    "# less efficient for larger strings because we are looping through the \n"
   ]
  },
  {
   "cell_type": "markdown",
   "metadata": {},
   "source": [
    "### The Second Nucleic Acid \n",
    "\n",
    "RNA (Ribose Nucleic Acid) with a different sugar ribose is also present in chromatin. It has the base *uracil* instead of *thymine*. \n",
    "\n",
    "DNA serves as a template for mRNA, created during RNA transcription of DNA, which can enter the far reaches of the cell. In contrast, DNA stays in the nucleus. \n",
    "\n",
    "### Problem \n",
    "An RNA string is a string formed from the alphabet containing 'A', 'C', 'G', and 'U'.\n",
    "\n",
    "Given a DNA string t corresponding to a coding strand, its transcribed RNA string u is formed by replacing all occurrences of 'T' in t with 'U' in u.\n",
    "\n",
    "Given: A DNA string t having length at most 1000 nt.\n",
    "Return: The transcribed RNA string of t."
   ]
  },
  {
   "cell_type": "code",
   "execution_count": 5,
   "metadata": {},
   "outputs": [
    {
     "name": "stdout",
     "output_type": "stream",
     "text": [
      "AAGGAAGUGUCAUUCAGGGGUAAUAGCAGGCUGACUUGCCCCCCCGUACCGCACUGGAGUACAGCGAUUAAUGAUGUGGCUUACGUCCUGGAUUUGUGCACAGGUGGGCUUCCCGCAAGUGUGUGGCCGUGCCUCCGGUAGCGUCAUAAGGUAAGUGCAGCCCGCACCUAUUGUAGAUCGUAGUAGGGGAGAGGGGGGCUCUCUGGAUUAGCAGGGGGAAACAGAUGGGGCAUAGAUACUUGAGAUGCACCAGUCCGGCAAAUGGCUAAUGGUUAUCGCCUCGAGUAGACUACUCAGUUAGGCGUCUCCUUGAUUUGAGAUUGUAUGCCCGCCGACUACCCCCAUUCCUGAUAACGUGAUCGGGUAAUACGAAAGAUUAAGAUAUGAUUGUAAACUUUUGUGUCGCAUGAGUGAGAGUACCGUAGCAGGUCGUAAGAAGUGAAUUACAGCUACCUGCCUGUUCUUUGUUGAGCAUUAAAUGGAGAGACAGACGUUCUCCGGUUAUUGUGUAACGCCGCUAAUACCUAUAUUGCCGACGGCUGAAAAUGAAUCUACGCCAUUAACACCCCGUCCGAUUUCAUCGCGUCCAUAAAGCCCCCCCGCGAUCUCAGAGUGACAUUUAGUAAGCUACCCCCCGUAUCCUUACUGGAAACAAUGAGCCAGUUGAUGCCGUCGUUCCGCGUGUGGUGCCGUCGGAGUCUAUAGGUAGAACUAUCGUUGUUCCCGCGCGAAAUGAACCCGGUUGUAAAAUUAGCGCAGCAGUGGACGCAACUCCUGCUCUCGUCCAAGGUAGGGGACCCAGUACUGCAAGCUUGCUAGGAGUCAAUCAUAACUUCAAUCUGUGAUCCCCUCGAUAGGAACUUGAGGGGGGAGUGCCCAAAAUCCCAAAACGAACCAGCAGA\n"
     ]
    }
   ],
   "source": [
    "with open(\"datasets/rosalind_rna.txt\",\"r\") as t: \n",
    "    t = t.read().strip()\n",
    "    u = \"\"\n",
    "\n",
    "    for bp in t: \n",
    "        if bp == \"T\":\n",
    "            u = u + \"U\"\n",
    "        else: \n",
    "            u = u + bp \n",
    "\n",
    "print(u)\n",
    "\n",
    "# this approach works but is inefficient \n",
    "# strings are immutable - a new string is created in each iteration \n",
    "# results in O(n^2) complexity as string length grows  "
   ]
  },
  {
   "cell_type": "code",
   "execution_count": 6,
   "metadata": {},
   "outputs": [
    {
     "data": {
      "text/plain": [
       "'CGGGAGCTGTGCGTAGCGGTTCCATGATGACCCATTCCACCGTTCAAACCCTGACACCTTAGCATCGGTACTTGAGCGTTAAGTGCTGAAGAACAGAACTCTCCTCACGATGTACCTCTACAAATCATTAAACTGTTAATTCGGCCGCAAAACCTAGTCCGGGACTCTAATTTCATACTCTAACTCAGGCTCGCTGTCTGATGCGATCAACCGTTATCTTCTCCCGCCCTGGTAGGGTGCTAAAAGATGTTATGGGCTCGAGAGGACGCTTTGTCTGTTGAATCCTCCTAGCCTCAGAGCTTCCATCTATAAACGTTCGTTCTGACCACGTACCGGTATCGGCGCGCAGTCCTCCTAATTCAGAACTGAGTAAACGAGGAAAACAATTTTATAGGTGTTACACAGCGGCAACCATGACACTGAACGTAAAATCCCGGGCTGTAATCGAGAAGTGCGAGAGTGTAAAATGGACGTTTTCAGTGCATCCTGCATCGGTCCGGCGGGTTCTGATGTTCGGCGGACCGCTTAGGTGTGACACGCGAGAAAGTAACACGACTCACTGGTGCACCAATCTCCTATGTTGCAAACGGATTCTTGTCACTGCCTCTTTTGAACCCCCCACTAAAAGAGGTGCTCCAAGTTTGCTACACGAACATGACGCTCGAGAACAATCGTCGAACGAAGCAGATTGGTGGTTTATAAAACTATTTTTACAAGTCAGTTCTCGATATATCCGTTGGGGGTCGCCTAAATGACACTCGGAAGAAAACGACATGTTACTGAGTTGTCTCCTACTAGACGCGGTCACTGAAACGCAATCTTGTGGTGTGACCAGAGATCATAGGGGGGACC'"
      ]
     },
     "execution_count": 6,
     "metadata": {},
     "output_type": "execute_result"
    }
   ],
   "source": [
    "# Note the *reverse* complement is due to the two strands running in \n",
    "# *opposite* directions \n",
    "\n",
    "# must reverse first and then replace! \n",
    "with open('datasets/rosalind_revc.txt','r') as s:\n",
    "    s = s.read().strip()\n",
    "\n",
    "sc_list = list(s) \n",
    "sc_list.reverse()\n",
    "\n",
    "\n",
    "# list comprehension\n",
    "sc_list = [\n",
    "    'A' if nt == 'T' else \n",
    "    'T' if nt == 'A' else\n",
    "    'G' if nt == 'C' else\n",
    "    'C' if nt == 'G' else nt\n",
    "\n",
    "    for nt in sc_list\n",
    "]\n",
    "\n",
    "sc = ''.join(sc_list)\n",
    "sc\n",
    "\n"
   ]
  },
  {
   "cell_type": "markdown",
   "metadata": {},
   "source": [
    "### The Secondary and Tertiary Structures of DNA \n",
    "\n",
    "The DNA molecule is a double helix made up of two strands running in opposite directions. Each base bonds to a base in the opposite strand complementarily (A-T) and (G-C) - called a **base pair**\n",
    "\n",
    "The tertiary structure refers to the 3D shape of the molecule, while the secondary is compriesd of the two opposite strands and base pairs. \n",
    "\n",
    "### Problem \n",
    "In DNA strings, symbols 'A' and 'T' are complements of each other, as are 'C' and 'G'.\n",
    "\n",
    "The reverse complement of a DNA string s is the string s<sup>c</sup> formed by reversing the symbols of s, then taking the complement of each symbol (e.g., the reverse complement of \"GTCA\" is \"TGAC\").\n",
    "\n",
    "Given: A DNA string s of length at most 1000 bp.\n",
    "Return: The reverse complement s<sup>c</sup> of s.\n",
    "\n"
   ]
  },
  {
   "cell_type": "code",
   "execution_count": 7,
   "metadata": {},
   "outputs": [
    {
     "data": {
      "text/plain": [
       "'CGGGAGCTGTGCGTAGCGGTTCCATGATGACCCATTCCACCGTTCAAACCCTGACACCTTAGCATCGGTACTTGAGCGTTAAGTGCTGAAGAACAGAACTCTCCTCACGATGTACCTCTACAAATCATTAAACTGTTAATTCGGCCGCAAAACCTAGTCCGGGACTCTAATTTCATACTCTAACTCAGGCTCGCTGTCTGATGCGATCAACCGTTATCTTCTCCCGCCCTGGTAGGGTGCTAAAAGATGTTATGGGCTCGAGAGGACGCTTTGTCTGTTGAATCCTCCTAGCCTCAGAGCTTCCATCTATAAACGTTCGTTCTGACCACGTACCGGTATCGGCGCGCAGTCCTCCTAATTCAGAACTGAGTAAACGAGGAAAACAATTTTATAGGTGTTACACAGCGGCAACCATGACACTGAACGTAAAATCCCGGGCTGTAATCGAGAAGTGCGAGAGTGTAAAATGGACGTTTTCAGTGCATCCTGCATCGGTCCGGCGGGTTCTGATGTTCGGCGGACCGCTTAGGTGTGACACGCGAGAAAGTAACACGACTCACTGGTGCACCAATCTCCTATGTTGCAAACGGATTCTTGTCACTGCCTCTTTTGAACCCCCCACTAAAAGAGGTGCTCCAAGTTTGCTACACGAACATGACGCTCGAGAACAATCGTCGAACGAAGCAGATTGGTGGTTTATAAAACTATTTTTACAAGTCAGTTCTCGATATATCCGTTGGGGGTCGCCTAAATGACACTCGGAAGAAAACGACATGTTACTGAGTTGTCTCCTACTAGACGCGGTCACTGAAACGCAATCTTGTGGTGTGACCAGAGATCATAGGGGGGACC'"
      ]
     },
     "execution_count": 7,
     "metadata": {},
     "output_type": "execute_result"
    }
   ],
   "source": [
    "## more efficient method using translation table\n",
    "\n",
    "with open('datasets/rosalind_revc.txt', 'r') as s:\n",
    "    s = s.read().strip()\n",
    "\n",
    "sc = s[::-1].translate(str.maketrans(\"ATGC\", \"TACG\"))\n",
    "sc\n"
   ]
  },
  {
   "cell_type": "code",
   "execution_count": 8,
   "metadata": {},
   "outputs": [
    {
     "data": {
      "text/plain": [
       "'AAGGAAGUGUCAUUCAGGGGUAAUAGCAGGCUGACUUGCCCCCCCGUACCGCACUGGAGUACAGCGAUUAAUGAUGUGGCUUACGUCCUGGAUUUGUGCACAGGUGGGCUUCCCGCAAGUGUGUGGCCGUGCCUCCGGUAGCGUCAUAAGGUAAGUGCAGCCCGCACCUAUUGUAGAUCGUAGUAGGGGAGAGGGGGGCUCUCUGGAUUAGCAGGGGGAAACAGAUGGGGCAUAGAUACUUGAGAUGCACCAGUCCGGCAAAUGGCUAAUGGUUAUCGCCUCGAGUAGACUACUCAGUUAGGCGUCUCCUUGAUUUGAGAUUGUAUGCCCGCCGACUACCCCCAUUCCUGAUAACGUGAUCGGGUAAUACGAAAGAUUAAGAUAUGAUUGUAAACUUUUGUGUCGCAUGAGUGAGAGUACCGUAGCAGGUCGUAAGAAGUGAAUUACAGCUACCUGCCUGUUCUUUGUUGAGCAUUAAAUGGAGAGACAGACGUUCUCCGGUUAUUGUGUAACGCCGCUAAUACCUAUAUUGCCGACGGCUGAAAAUGAAUCUACGCCAUUAACACCCCGUCCGAUUUCAUCGCGUCCAUAAAGCCCCCCCGCGAUCUCAGAGUGACAUUUAGUAAGCUACCCCCCGUAUCCUUACUGGAAACAAUGAGCCAGUUGAUGCCGUCGUUCCGCGUGUGGUGCCGUCGGAGUCUAUAGGUAGAACUAUCGUUGUUCCCGCGCGAAAUGAACCCGGUUGUAAAAUUAGCGCAGCAGUGGACGCAACUCCUGCUCUCGUCCAAGGUAGGGGACCCAGUACUGCAAGCUUGCUAGGAGUCAAUCAUAACUUCAAUCUGUGAUCCCCUCGAUAGGAACUUGAGGGGGGAGUGCCCAAAAUCCCAAAACGAACCAGCAGA'"
      ]
     },
     "execution_count": 8,
     "metadata": {},
     "output_type": "execute_result"
    }
   ],
   "source": [
    "with open('datasets/rosalind_rna.txt','r') as t: \n",
    "    t = t.read().strip()\n",
    "\n",
    "u_l = []\n",
    "\n",
    "for bp in t: \n",
    "    if bp == \"T\":\n",
    "        u_l.append('U')\n",
    "    else: \n",
    "        u_l.append(bp)\n",
    "\n",
    "\n",
    "u = ''.join(u_l)\n",
    "u\n",
    "\n",
    "# this is a more efficient way, with O(n) complexity (linear)"
   ]
  },
  {
   "cell_type": "code",
   "execution_count": 9,
   "metadata": {},
   "outputs": [
    {
     "name": "stdout",
     "output_type": "stream",
     "text": [
      "AAGGAAGUGUCAUUCAGGGGUAAUAGCAGGCUGACUUGCCCCCCCGUACCGCACUGGAGUACAGCGAUUAAUGAUGUGGCUUACGUCCUGGAUUUGUGCACAGGUGGGCUUCCCGCAAGUGUGUGGCCGUGCCUCCGGUAGCGUCAUAAGGUAAGUGCAGCCCGCACCUAUUGUAGAUCGUAGUAGGGGAGAGGGGGGCUCUCUGGAUUAGCAGGGGGAAACAGAUGGGGCAUAGAUACUUGAGAUGCACCAGUCCGGCAAAUGGCUAAUGGUUAUCGCCUCGAGUAGACUACUCAGUUAGGCGUCUCCUUGAUUUGAGAUUGUAUGCCCGCCGACUACCCCCAUUCCUGAUAACGUGAUCGGGUAAUACGAAAGAUUAAGAUAUGAUUGUAAACUUUUGUGUCGCAUGAGUGAGAGUACCGUAGCAGGUCGUAAGAAGUGAAUUACAGCUACCUGCCUGUUCUUUGUUGAGCAUUAAAUGGAGAGACAGACGUUCUCCGGUUAUUGUGUAACGCCGCUAAUACCUAUAUUGCCGACGGCUGAAAAUGAAUCUACGCCAUUAACACCCCGUCCGAUUUCAUCGCGUCCAUAAAGCCCCCCCGCGAUCUCAGAGUGACAUUUAGUAAGCUACCCCCCGUAUCCUUACUGGAAACAAUGAGCCAGUUGAUGCCGUCGUUCCGCGUGUGGUGCCGUCGGAGUCUAUAGGUAGAACUAUCGUUGUUCCCGCGCGAAAUGAACCCGGUUGUAAAAUUAGCGCAGCAGUGGACGCAACUCCUGCUCUCGUCCAAGGUAGGGGACCCAGUACUGCAAGCUUGCUAGGAGUCAAUCAUAACUUCAAUCUGUGAUCCCCUCGAUAGGAACUUGAGGGGGGAGUGCCCAAAAUCCCAAAACGAACCAGCAGA\n"
     ]
    }
   ],
   "source": [
    "## another alternative \n",
    "# efficient and most Pythonic, using replace() as designed\n",
    "\n",
    "with open('datasets/rosalind_rna.txt','r') as t: \n",
    "    t = t.read().strip()\n",
    "    u = t.replace(\"T\",\"U\")\n",
    "\n",
    "print(u)"
   ]
  }
 ],
 "metadata": {
  "kernelspec": {
   "display_name": "base",
   "language": "python",
   "name": "python3"
  },
  "language_info": {
   "codemirror_mode": {
    "name": "ipython",
    "version": 3
   },
   "file_extension": ".py",
   "mimetype": "text/x-python",
   "name": "python",
   "nbconvert_exporter": "python",
   "pygments_lexer": "ipython3",
   "version": "3.8.5"
  }
 },
 "nbformat": 4,
 "nbformat_minor": 2
}
