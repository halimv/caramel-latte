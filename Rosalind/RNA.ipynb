{
 "cells": [
  {
   "cell_type": "markdown",
   "metadata": {},
   "source": [
    "### The Second Nucleic Acid \n",
    "\n",
    "RNA (Ribose Nucleic Acid) with a different sugar ribose is also present in chromatin. It has the base *uracil* instead of *thymine*. \n",
    "\n",
    "DNA serves as a template for mRNA, created during RNA transcription of DNA, which can enter the far reaches of the cell. In contrast, DNA stays in the nucleus. \n",
    "\n",
    "### Problem \n",
    "An RNA string is a string formed from the alphabet containing 'A', 'C', 'G', and 'U'.\n",
    "\n",
    "Given a DNA string t corresponding to a coding strand, its transcribed RNA string u is formed by replacing all occurrences of 'T' in t with 'U' in u.\n",
    "\n",
    "Given: A DNA string t having length at most 1000 nt.\n",
    "Return: The transcribed RNA string of t."
   ]
  },
  {
   "cell_type": "code",
   "execution_count": 1,
   "metadata": {},
   "outputs": [
    {
     "name": "stdout",
     "output_type": "stream",
     "text": [
      "AAGGAAGUGUCAUUCAGGGGUAAUAGCAGGCUGACUUGCCCCCCCGUACCGCACUGGAGUACAGCGAUUAAUGAUGUGGCUUACGUCCUGGAUUUGUGCACAGGUGGGCUUCCCGCAAGUGUGUGGCCGUGCCUCCGGUAGCGUCAUAAGGUAAGUGCAGCCCGCACCUAUUGUAGAUCGUAGUAGGGGAGAGGGGGGCUCUCUGGAUUAGCAGGGGGAAACAGAUGGGGCAUAGAUACUUGAGAUGCACCAGUCCGGCAAAUGGCUAAUGGUUAUCGCCUCGAGUAGACUACUCAGUUAGGCGUCUCCUUGAUUUGAGAUUGUAUGCCCGCCGACUACCCCCAUUCCUGAUAACGUGAUCGGGUAAUACGAAAGAUUAAGAUAUGAUUGUAAACUUUUGUGUCGCAUGAGUGAGAGUACCGUAGCAGGUCGUAAGAAGUGAAUUACAGCUACCUGCCUGUUCUUUGUUGAGCAUUAAAUGGAGAGACAGACGUUCUCCGGUUAUUGUGUAACGCCGCUAAUACCUAUAUUGCCGACGGCUGAAAAUGAAUCUACGCCAUUAACACCCCGUCCGAUUUCAUCGCGUCCAUAAAGCCCCCCCGCGAUCUCAGAGUGACAUUUAGUAAGCUACCCCCCGUAUCCUUACUGGAAACAAUGAGCCAGUUGAUGCCGUCGUUCCGCGUGUGGUGCCGUCGGAGUCUAUAGGUAGAACUAUCGUUGUUCCCGCGCGAAAUGAACCCGGUUGUAAAAUUAGCGCAGCAGUGGACGCAACUCCUGCUCUCGUCCAAGGUAGGGGACCCAGUACUGCAAGCUUGCUAGGAGUCAAUCAUAACUUCAAUCUGUGAUCCCCUCGAUAGGAACUUGAGGGGGGAGUGCCCAAAAUCCCAAAACGAACCAGCAGA\n"
     ]
    }
   ],
   "source": [
    "with open(\"datasets/rosalind_rna.txt\",\"r\") as t: \n",
    "    t = t.read().strip()\n",
    "    u = \"\"\n",
    "\n",
    "    for bp in t: \n",
    "        if bp == \"T\":\n",
    "            u = u + \"U\"\n",
    "        else: \n",
    "            u = u + bp \n",
    "\n",
    "print(u)\n",
    "\n",
    "# this approach works but is inefficient \n",
    "# strings are immutable - a new string is created in each iteration \n",
    "# results in O(n^2) complexity as string length grows  "
   ]
  },
  {
   "cell_type": "code",
   "execution_count": 3,
   "metadata": {},
   "outputs": [
    {
     "name": "stdout",
     "output_type": "stream",
     "text": [
      "AAGGAAGUGUCAUUCAGGGGUAAUAGCAGGCUGACUUGCCCCCCCGUACCGCACUGGAGUACAGCGAUUAAUGAUGUGGCUUACGUCCUGGAUUUGUGCACAGGUGGGCUUCCCGCAAGUGUGUGGCCGUGCCUCCGGUAGCGUCAUAAGGUAAGUGCAGCCCGCACCUAUUGUAGAUCGUAGUAGGGGAGAGGGGGGCUCUCUGGAUUAGCAGGGGGAAACAGAUGGGGCAUAGAUACUUGAGAUGCACCAGUCCGGCAAAUGGCUAAUGGUUAUCGCCUCGAGUAGACUACUCAGUUAGGCGUCUCCUUGAUUUGAGAUUGUAUGCCCGCCGACUACCCCCAUUCCUGAUAACGUGAUCGGGUAAUACGAAAGAUUAAGAUAUGAUUGUAAACUUUUGUGUCGCAUGAGUGAGAGUACCGUAGCAGGUCGUAAGAAGUGAAUUACAGCUACCUGCCUGUUCUUUGUUGAGCAUUAAAUGGAGAGACAGACGUUCUCCGGUUAUUGUGUAACGCCGCUAAUACCUAUAUUGCCGACGGCUGAAAAUGAAUCUACGCCAUUAACACCCCGUCCGAUUUCAUCGCGUCCAUAAAGCCCCCCCGCGAUCUCAGAGUGACAUUUAGUAAGCUACCCCCCGUAUCCUUACUGGAAACAAUGAGCCAGUUGAUGCCGUCGUUCCGCGUGUGGUGCCGUCGGAGUCUAUAGGUAGAACUAUCGUUGUUCCCGCGCGAAAUGAACCCGGUUGUAAAAUUAGCGCAGCAGUGGACGCAACUCCUGCUCUCGUCCAAGGUAGGGGACCCAGUACUGCAAGCUUGCUAGGAGUCAAUCAUAACUUCAAUCUGUGAUCCCCUCGAUAGGAACUUGAGGGGGGAGUGCCCAAAAUCCCAAAACGAACCAGCAGA\n"
     ]
    }
   ],
   "source": [
    "## another alternative \n",
    "# efficient and most Pythonic, using replace() as designed\n",
    "\n",
    "with open('datasets/rosalind_rna.txt','r') as t: \n",
    "    t = t.read().strip()\n",
    "    u = t.replace(\"T\",\"U\")\n",
    "\n",
    "print(u)"
   ]
  }
 ],
 "metadata": {
  "kernelspec": {
   "display_name": "base",
   "language": "python",
   "name": "python3"
  },
  "language_info": {
   "codemirror_mode": {
    "name": "ipython",
    "version": 3
   },
   "file_extension": ".py",
   "mimetype": "text/x-python",
   "name": "python",
   "nbconvert_exporter": "python",
   "pygments_lexer": "ipython3",
   "version": "3.8.5"
  }
 },
 "nbformat": 4,
 "nbformat_minor": 2
}
