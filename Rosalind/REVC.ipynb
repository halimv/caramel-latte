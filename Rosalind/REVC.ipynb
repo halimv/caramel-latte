{
 "cells": [
  {
   "cell_type": "markdown",
   "metadata": {},
   "source": [
    "### The Secondary and Tertiary Structures of DNA \n",
    "\n",
    "The DNA molecule is a double helix made up of two strands running in opposite directions. Each base bonds to a base in the opposite strand complementarily (A-T) and (G-C) - called a **base pair**\n",
    "\n",
    "The tertiary structure refers to the 3D shape of the molecule, while the secondary is compriesd of the two opposite strands and base pairs. \n",
    "\n",
    "### Problem \n",
    "In DNA strings, symbols 'A' and 'T' are complements of each other, as are 'C' and 'G'.\n",
    "\n",
    "The reverse complement of a DNA string s is the string s<sup>c</sup> formed by reversing the symbols of s, then taking the complement of each symbol (e.g., the reverse complement of \"GTCA\" is \"TGAC\").\n",
    "\n",
    "Given: A DNA string s of length at most 1000 bp.\n",
    "Return: The reverse complement s<sup>c</sup> of s.\n",
    "\n"
   ]
  },
  {
   "cell_type": "code",
   "execution_count": 1,
   "metadata": {},
   "outputs": [
    {
     "data": {
      "text/plain": [
       "'CGGGAGCTGTGCGTAGCGGTTCCATGATGACCCATTCCACCGTTCAAACCCTGACACCTTAGCATCGGTACTTGAGCGTTAAGTGCTGAAGAACAGAACTCTCCTCACGATGTACCTCTACAAATCATTAAACTGTTAATTCGGCCGCAAAACCTAGTCCGGGACTCTAATTTCATACTCTAACTCAGGCTCGCTGTCTGATGCGATCAACCGTTATCTTCTCCCGCCCTGGTAGGGTGCTAAAAGATGTTATGGGCTCGAGAGGACGCTTTGTCTGTTGAATCCTCCTAGCCTCAGAGCTTCCATCTATAAACGTTCGTTCTGACCACGTACCGGTATCGGCGCGCAGTCCTCCTAATTCAGAACTGAGTAAACGAGGAAAACAATTTTATAGGTGTTACACAGCGGCAACCATGACACTGAACGTAAAATCCCGGGCTGTAATCGAGAAGTGCGAGAGTGTAAAATGGACGTTTTCAGTGCATCCTGCATCGGTCCGGCGGGTTCTGATGTTCGGCGGACCGCTTAGGTGTGACACGCGAGAAAGTAACACGACTCACTGGTGCACCAATCTCCTATGTTGCAAACGGATTCTTGTCACTGCCTCTTTTGAACCCCCCACTAAAAGAGGTGCTCCAAGTTTGCTACACGAACATGACGCTCGAGAACAATCGTCGAACGAAGCAGATTGGTGGTTTATAAAACTATTTTTACAAGTCAGTTCTCGATATATCCGTTGGGGGTCGCCTAAATGACACTCGGAAGAAAACGACATGTTACTGAGTTGTCTCCTACTAGACGCGGTCACTGAAACGCAATCTTGTGGTGTGACCAGAGATCATAGGGGGGACC'"
      ]
     },
     "execution_count": 1,
     "metadata": {},
     "output_type": "execute_result"
    }
   ],
   "source": [
    "# Note the *reverse* complement is due to the two strands running in \n",
    "# *opposite* directions \n",
    "\n",
    "# must reverse first and then replace! \n",
    "with open('datasets/rosalind_revc.txt','r') as s:\n",
    "    s = s.read().strip()\n",
    "\n",
    "sc_list = list(s) \n",
    "sc_list.reverse()\n",
    "\n",
    "\n",
    "# list comprehension\n",
    "sc_list = [\n",
    "    'A' if nt == 'T' else \n",
    "    'T' if nt == 'A' else\n",
    "    'G' if nt == 'C' else\n",
    "    'C' if nt == 'G' else nt\n",
    "\n",
    "    for nt in sc_list\n",
    "]\n",
    "\n",
    "sc = ''.join(sc_list)\n",
    "sc\n",
    "\n"
   ]
  },
  {
   "cell_type": "code",
   "execution_count": 2,
   "metadata": {},
   "outputs": [
    {
     "data": {
      "text/plain": [
       "'CGGGAGCTGTGCGTAGCGGTTCCATGATGACCCATTCCACCGTTCAAACCCTGACACCTTAGCATCGGTACTTGAGCGTTAAGTGCTGAAGAACAGAACTCTCCTCACGATGTACCTCTACAAATCATTAAACTGTTAATTCGGCCGCAAAACCTAGTCCGGGACTCTAATTTCATACTCTAACTCAGGCTCGCTGTCTGATGCGATCAACCGTTATCTTCTCCCGCCCTGGTAGGGTGCTAAAAGATGTTATGGGCTCGAGAGGACGCTTTGTCTGTTGAATCCTCCTAGCCTCAGAGCTTCCATCTATAAACGTTCGTTCTGACCACGTACCGGTATCGGCGCGCAGTCCTCCTAATTCAGAACTGAGTAAACGAGGAAAACAATTTTATAGGTGTTACACAGCGGCAACCATGACACTGAACGTAAAATCCCGGGCTGTAATCGAGAAGTGCGAGAGTGTAAAATGGACGTTTTCAGTGCATCCTGCATCGGTCCGGCGGGTTCTGATGTTCGGCGGACCGCTTAGGTGTGACACGCGAGAAAGTAACACGACTCACTGGTGCACCAATCTCCTATGTTGCAAACGGATTCTTGTCACTGCCTCTTTTGAACCCCCCACTAAAAGAGGTGCTCCAAGTTTGCTACACGAACATGACGCTCGAGAACAATCGTCGAACGAAGCAGATTGGTGGTTTATAAAACTATTTTTACAAGTCAGTTCTCGATATATCCGTTGGGGGTCGCCTAAATGACACTCGGAAGAAAACGACATGTTACTGAGTTGTCTCCTACTAGACGCGGTCACTGAAACGCAATCTTGTGGTGTGACCAGAGATCATAGGGGGGACC'"
      ]
     },
     "execution_count": 2,
     "metadata": {},
     "output_type": "execute_result"
    }
   ],
   "source": [
    "## more efficient method using translation table\n",
    "\n",
    "with open('datasets/rosalind_revc.txt', 'r') as s:\n",
    "    s = s.read().strip()\n",
    "\n",
    "sc = s[::-1].translate(str.maketrans(\"ATGC\", \"TACG\"))\n",
    "sc\n"
   ]
  }
 ],
 "metadata": {
  "kernelspec": {
   "display_name": "base",
   "language": "python",
   "name": "python3"
  },
  "language_info": {
   "codemirror_mode": {
    "name": "ipython",
    "version": 3
   },
   "file_extension": ".py",
   "mimetype": "text/x-python",
   "name": "python",
   "nbconvert_exporter": "python",
   "pygments_lexer": "ipython3",
   "version": "3.8.5"
  }
 },
 "nbformat": 4,
 "nbformat_minor": 2
}
